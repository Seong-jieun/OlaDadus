{
  "nbformat": 4,
  "nbformat_minor": 0,
  "metadata": {
    "colab": {
      "provenance": []
    },
    "kernelspec": {
      "name": "python3",
      "display_name": "Python 3"
    },
    "language_info": {
      "name": "python"
    }
  },
  "cells": [
    {
      "cell_type": "markdown",
      "source": [
        "# 폰트 관련 설치"
      ],
      "metadata": {
        "id": "zDgcMJ12I6i8"
      }
    },
    {
      "cell_type": "code",
      "source": [
        "# !sudo apt-get install -y fonts-nanum\n",
        "# !sudo fc-cache -fv\n",
        "# !rm ~/.cache/matplotlib -rf"
      ],
      "metadata": {
        "id": "yW0iPWOII8H-"
      },
      "execution_count": 1,
      "outputs": []
    },
    {
      "cell_type": "code",
      "source": [
        "# import matplotlib.pyplot as plt\n",
        "# import matplotlib.font_manager as fm\n",
        "\n",
        "# # 나눔고딕 폰트 경로\n",
        "# font_path = '/usr/share/fonts/truetype/nanum/NanumGothic.ttf'\n",
        "\n",
        "# # 폰트 프로퍼티 생성\n",
        "# font_prop = fm.FontProperties(fname=font_path)\n",
        "# plt.rc('font', family=font_prop.get_name())\n",
        "\n",
        "# # 한글 폰트가 제대로 설정되었는지 확인\n",
        "# print(\"현재 설정된 폰트:\", plt.rcParams['font.family'])"
      ],
      "metadata": {
        "colab": {
          "base_uri": "https://localhost:8080/"
        },
        "id": "fOk1npQWI9Yc",
        "outputId": "762aede6-2b67-445b-c177-6e5f950df560"
      },
      "execution_count": 2,
      "outputs": [
        {
          "output_type": "stream",
          "name": "stdout",
          "text": [
            "현재 설정된 폰트: ['NanumGothic']\n"
          ]
        }
      ]
    },
    {
      "cell_type": "markdown",
      "source": [
        "# 모델링을 위한 optuna 설치"
      ],
      "metadata": {
        "id": "xCrTj_wkI_ct"
      }
    },
    {
      "cell_type": "code",
      "source": [
        "# pip install -q optuna"
      ],
      "metadata": {
        "id": "d7HbPb2sI-rk"
      },
      "execution_count": 3,
      "outputs": []
    },
    {
      "cell_type": "markdown",
      "source": [
        "# 모듈 불러오기"
      ],
      "metadata": {
        "id": "jorOaWLWBuYT"
      }
    },
    {
      "cell_type": "code",
      "execution_count": 4,
      "metadata": {
        "id": "L_Rtpruehcti"
      },
      "outputs": [],
      "source": [
        "import pandas as pd\n",
        "import optuna\n",
        "from sklearn.preprocessing import StandardScaler\n",
        "from sklearn.ensemble import RandomForestClassifier\n",
        "from sklearn.model_selection import train_test_split\n",
        "from sklearn.metrics import roc_auc_score\n",
        "\n",
        "import matplotlib.pyplot as plt\n",
        "import seaborn as sns\n",
        "import datetime\n",
        "\n",
        "from sklearn.preprocessing import LabelEncoder"
      ]
    },
    {
      "cell_type": "markdown",
      "source": [
        "# customers 테이블에서 1번과 그 이상의 고객 고유 ID 리스트 뽑기"
      ],
      "metadata": {
        "id": "vrlitONrr4oQ"
      }
    },
    {
      "cell_type": "code",
      "source": [
        "cus_final = pd.read_csv('/content/drive/MyDrive/멋사 프로그래밍/13. 데이터톤/open_final/customers_final.csv')\n",
        "cus_final.head()"
      ],
      "metadata": {
        "colab": {
          "base_uri": "https://localhost:8080/",
          "height": 206
        },
        "id": "mKUvoJt5logn",
        "outputId": "98c33787-d35c-4f98-d2ef-0fb659623ce4"
      },
      "execution_count": 5,
      "outputs": [
        {
          "output_type": "execute_result",
          "data": {
            "text/plain": [
              "            고객 ID               고객 고유 ID  우편번호 앞부분                     도시   주  \\\n",
              "0  CUSTOMER_00000  CUSTOMER_Unique_00000     14409                 franca  SP   \n",
              "1  CUSTOMER_00001  CUSTOMER_Unique_00001      9790  sao bernardo do campo  SP   \n",
              "2  CUSTOMER_00002  CUSTOMER_Unique_00002      1151              sao paulo  SP   \n",
              "3  CUSTOMER_00003  CUSTOMER_Unique_00003      8775        mogi das cruzes  SP   \n",
              "4  CUSTOMER_00004  CUSTOMER_Unique_00004     89254         jaragua do sul  SC   \n",
              "\n",
              "                   고객 도시    주 한국명   지역  \n",
              "0                 franca    상파울루주  남동부  \n",
              "1  sao bernardo do campo    상파울루주  남동부  \n",
              "2              sao paulo    상파울루주  남동부  \n",
              "3        mogi das cruzes    상파울루주  남동부  \n",
              "4         jaragua do sul  산타카타리나주   남부  "
            ],
            "text/html": [
              "\n",
              "  <div id=\"df-d9e48ca4-3497-49e5-ac43-633ea0a323d6\" class=\"colab-df-container\">\n",
              "    <div>\n",
              "<style scoped>\n",
              "    .dataframe tbody tr th:only-of-type {\n",
              "        vertical-align: middle;\n",
              "    }\n",
              "\n",
              "    .dataframe tbody tr th {\n",
              "        vertical-align: top;\n",
              "    }\n",
              "\n",
              "    .dataframe thead th {\n",
              "        text-align: right;\n",
              "    }\n",
              "</style>\n",
              "<table border=\"1\" class=\"dataframe\">\n",
              "  <thead>\n",
              "    <tr style=\"text-align: right;\">\n",
              "      <th></th>\n",
              "      <th>고객 ID</th>\n",
              "      <th>고객 고유 ID</th>\n",
              "      <th>우편번호 앞부분</th>\n",
              "      <th>도시</th>\n",
              "      <th>주</th>\n",
              "      <th>고객 도시</th>\n",
              "      <th>주 한국명</th>\n",
              "      <th>지역</th>\n",
              "    </tr>\n",
              "  </thead>\n",
              "  <tbody>\n",
              "    <tr>\n",
              "      <th>0</th>\n",
              "      <td>CUSTOMER_00000</td>\n",
              "      <td>CUSTOMER_Unique_00000</td>\n",
              "      <td>14409</td>\n",
              "      <td>franca</td>\n",
              "      <td>SP</td>\n",
              "      <td>franca</td>\n",
              "      <td>상파울루주</td>\n",
              "      <td>남동부</td>\n",
              "    </tr>\n",
              "    <tr>\n",
              "      <th>1</th>\n",
              "      <td>CUSTOMER_00001</td>\n",
              "      <td>CUSTOMER_Unique_00001</td>\n",
              "      <td>9790</td>\n",
              "      <td>sao bernardo do campo</td>\n",
              "      <td>SP</td>\n",
              "      <td>sao bernardo do campo</td>\n",
              "      <td>상파울루주</td>\n",
              "      <td>남동부</td>\n",
              "    </tr>\n",
              "    <tr>\n",
              "      <th>2</th>\n",
              "      <td>CUSTOMER_00002</td>\n",
              "      <td>CUSTOMER_Unique_00002</td>\n",
              "      <td>1151</td>\n",
              "      <td>sao paulo</td>\n",
              "      <td>SP</td>\n",
              "      <td>sao paulo</td>\n",
              "      <td>상파울루주</td>\n",
              "      <td>남동부</td>\n",
              "    </tr>\n",
              "    <tr>\n",
              "      <th>3</th>\n",
              "      <td>CUSTOMER_00003</td>\n",
              "      <td>CUSTOMER_Unique_00003</td>\n",
              "      <td>8775</td>\n",
              "      <td>mogi das cruzes</td>\n",
              "      <td>SP</td>\n",
              "      <td>mogi das cruzes</td>\n",
              "      <td>상파울루주</td>\n",
              "      <td>남동부</td>\n",
              "    </tr>\n",
              "    <tr>\n",
              "      <th>4</th>\n",
              "      <td>CUSTOMER_00004</td>\n",
              "      <td>CUSTOMER_Unique_00004</td>\n",
              "      <td>89254</td>\n",
              "      <td>jaragua do sul</td>\n",
              "      <td>SC</td>\n",
              "      <td>jaragua do sul</td>\n",
              "      <td>산타카타리나주</td>\n",
              "      <td>남부</td>\n",
              "    </tr>\n",
              "  </tbody>\n",
              "</table>\n",
              "</div>\n",
              "    <div class=\"colab-df-buttons\">\n",
              "\n",
              "  <div class=\"colab-df-container\">\n",
              "    <button class=\"colab-df-convert\" onclick=\"convertToInteractive('df-d9e48ca4-3497-49e5-ac43-633ea0a323d6')\"\n",
              "            title=\"Convert this dataframe to an interactive table.\"\n",
              "            style=\"display:none;\">\n",
              "\n",
              "  <svg xmlns=\"http://www.w3.org/2000/svg\" height=\"24px\" viewBox=\"0 -960 960 960\">\n",
              "    <path d=\"M120-120v-720h720v720H120Zm60-500h600v-160H180v160Zm220 220h160v-160H400v160Zm0 220h160v-160H400v160ZM180-400h160v-160H180v160Zm440 0h160v-160H620v160ZM180-180h160v-160H180v160Zm440 0h160v-160H620v160Z\"/>\n",
              "  </svg>\n",
              "    </button>\n",
              "\n",
              "  <style>\n",
              "    .colab-df-container {\n",
              "      display:flex;\n",
              "      gap: 12px;\n",
              "    }\n",
              "\n",
              "    .colab-df-convert {\n",
              "      background-color: #E8F0FE;\n",
              "      border: none;\n",
              "      border-radius: 50%;\n",
              "      cursor: pointer;\n",
              "      display: none;\n",
              "      fill: #1967D2;\n",
              "      height: 32px;\n",
              "      padding: 0 0 0 0;\n",
              "      width: 32px;\n",
              "    }\n",
              "\n",
              "    .colab-df-convert:hover {\n",
              "      background-color: #E2EBFA;\n",
              "      box-shadow: 0px 1px 2px rgba(60, 64, 67, 0.3), 0px 1px 3px 1px rgba(60, 64, 67, 0.15);\n",
              "      fill: #174EA6;\n",
              "    }\n",
              "\n",
              "    .colab-df-buttons div {\n",
              "      margin-bottom: 4px;\n",
              "    }\n",
              "\n",
              "    [theme=dark] .colab-df-convert {\n",
              "      background-color: #3B4455;\n",
              "      fill: #D2E3FC;\n",
              "    }\n",
              "\n",
              "    [theme=dark] .colab-df-convert:hover {\n",
              "      background-color: #434B5C;\n",
              "      box-shadow: 0px 1px 3px 1px rgba(0, 0, 0, 0.15);\n",
              "      filter: drop-shadow(0px 1px 2px rgba(0, 0, 0, 0.3));\n",
              "      fill: #FFFFFF;\n",
              "    }\n",
              "  </style>\n",
              "\n",
              "    <script>\n",
              "      const buttonEl =\n",
              "        document.querySelector('#df-d9e48ca4-3497-49e5-ac43-633ea0a323d6 button.colab-df-convert');\n",
              "      buttonEl.style.display =\n",
              "        google.colab.kernel.accessAllowed ? 'block' : 'none';\n",
              "\n",
              "      async function convertToInteractive(key) {\n",
              "        const element = document.querySelector('#df-d9e48ca4-3497-49e5-ac43-633ea0a323d6');\n",
              "        const dataTable =\n",
              "          await google.colab.kernel.invokeFunction('convertToInteractive',\n",
              "                                                    [key], {});\n",
              "        if (!dataTable) return;\n",
              "\n",
              "        const docLinkHtml = 'Like what you see? Visit the ' +\n",
              "          '<a target=\"_blank\" href=https://colab.research.google.com/notebooks/data_table.ipynb>data table notebook</a>'\n",
              "          + ' to learn more about interactive tables.';\n",
              "        element.innerHTML = '';\n",
              "        dataTable['output_type'] = 'display_data';\n",
              "        await google.colab.output.renderOutput(dataTable, element);\n",
              "        const docLink = document.createElement('div');\n",
              "        docLink.innerHTML = docLinkHtml;\n",
              "        element.appendChild(docLink);\n",
              "      }\n",
              "    </script>\n",
              "  </div>\n",
              "\n",
              "\n",
              "<div id=\"df-a49667c4-9f08-42e6-ba33-ebc5c7fac9ba\">\n",
              "  <button class=\"colab-df-quickchart\" onclick=\"quickchart('df-a49667c4-9f08-42e6-ba33-ebc5c7fac9ba')\"\n",
              "            title=\"Suggest charts\"\n",
              "            style=\"display:none;\">\n",
              "\n",
              "<svg xmlns=\"http://www.w3.org/2000/svg\" height=\"24px\"viewBox=\"0 0 24 24\"\n",
              "     width=\"24px\">\n",
              "    <g>\n",
              "        <path d=\"M19 3H5c-1.1 0-2 .9-2 2v14c0 1.1.9 2 2 2h14c1.1 0 2-.9 2-2V5c0-1.1-.9-2-2-2zM9 17H7v-7h2v7zm4 0h-2V7h2v10zm4 0h-2v-4h2v4z\"/>\n",
              "    </g>\n",
              "</svg>\n",
              "  </button>\n",
              "\n",
              "<style>\n",
              "  .colab-df-quickchart {\n",
              "      --bg-color: #E8F0FE;\n",
              "      --fill-color: #1967D2;\n",
              "      --hover-bg-color: #E2EBFA;\n",
              "      --hover-fill-color: #174EA6;\n",
              "      --disabled-fill-color: #AAA;\n",
              "      --disabled-bg-color: #DDD;\n",
              "  }\n",
              "\n",
              "  [theme=dark] .colab-df-quickchart {\n",
              "      --bg-color: #3B4455;\n",
              "      --fill-color: #D2E3FC;\n",
              "      --hover-bg-color: #434B5C;\n",
              "      --hover-fill-color: #FFFFFF;\n",
              "      --disabled-bg-color: #3B4455;\n",
              "      --disabled-fill-color: #666;\n",
              "  }\n",
              "\n",
              "  .colab-df-quickchart {\n",
              "    background-color: var(--bg-color);\n",
              "    border: none;\n",
              "    border-radius: 50%;\n",
              "    cursor: pointer;\n",
              "    display: none;\n",
              "    fill: var(--fill-color);\n",
              "    height: 32px;\n",
              "    padding: 0;\n",
              "    width: 32px;\n",
              "  }\n",
              "\n",
              "  .colab-df-quickchart:hover {\n",
              "    background-color: var(--hover-bg-color);\n",
              "    box-shadow: 0 1px 2px rgba(60, 64, 67, 0.3), 0 1px 3px 1px rgba(60, 64, 67, 0.15);\n",
              "    fill: var(--button-hover-fill-color);\n",
              "  }\n",
              "\n",
              "  .colab-df-quickchart-complete:disabled,\n",
              "  .colab-df-quickchart-complete:disabled:hover {\n",
              "    background-color: var(--disabled-bg-color);\n",
              "    fill: var(--disabled-fill-color);\n",
              "    box-shadow: none;\n",
              "  }\n",
              "\n",
              "  .colab-df-spinner {\n",
              "    border: 2px solid var(--fill-color);\n",
              "    border-color: transparent;\n",
              "    border-bottom-color: var(--fill-color);\n",
              "    animation:\n",
              "      spin 1s steps(1) infinite;\n",
              "  }\n",
              "\n",
              "  @keyframes spin {\n",
              "    0% {\n",
              "      border-color: transparent;\n",
              "      border-bottom-color: var(--fill-color);\n",
              "      border-left-color: var(--fill-color);\n",
              "    }\n",
              "    20% {\n",
              "      border-color: transparent;\n",
              "      border-left-color: var(--fill-color);\n",
              "      border-top-color: var(--fill-color);\n",
              "    }\n",
              "    30% {\n",
              "      border-color: transparent;\n",
              "      border-left-color: var(--fill-color);\n",
              "      border-top-color: var(--fill-color);\n",
              "      border-right-color: var(--fill-color);\n",
              "    }\n",
              "    40% {\n",
              "      border-color: transparent;\n",
              "      border-right-color: var(--fill-color);\n",
              "      border-top-color: var(--fill-color);\n",
              "    }\n",
              "    60% {\n",
              "      border-color: transparent;\n",
              "      border-right-color: var(--fill-color);\n",
              "    }\n",
              "    80% {\n",
              "      border-color: transparent;\n",
              "      border-right-color: var(--fill-color);\n",
              "      border-bottom-color: var(--fill-color);\n",
              "    }\n",
              "    90% {\n",
              "      border-color: transparent;\n",
              "      border-bottom-color: var(--fill-color);\n",
              "    }\n",
              "  }\n",
              "</style>\n",
              "\n",
              "  <script>\n",
              "    async function quickchart(key) {\n",
              "      const quickchartButtonEl =\n",
              "        document.querySelector('#' + key + ' button');\n",
              "      quickchartButtonEl.disabled = true;  // To prevent multiple clicks.\n",
              "      quickchartButtonEl.classList.add('colab-df-spinner');\n",
              "      try {\n",
              "        const charts = await google.colab.kernel.invokeFunction(\n",
              "            'suggestCharts', [key], {});\n",
              "      } catch (error) {\n",
              "        console.error('Error during call to suggestCharts:', error);\n",
              "      }\n",
              "      quickchartButtonEl.classList.remove('colab-df-spinner');\n",
              "      quickchartButtonEl.classList.add('colab-df-quickchart-complete');\n",
              "    }\n",
              "    (() => {\n",
              "      let quickchartButtonEl =\n",
              "        document.querySelector('#df-a49667c4-9f08-42e6-ba33-ebc5c7fac9ba button');\n",
              "      quickchartButtonEl.style.display =\n",
              "        google.colab.kernel.accessAllowed ? 'block' : 'none';\n",
              "    })();\n",
              "  </script>\n",
              "</div>\n",
              "\n",
              "    </div>\n",
              "  </div>\n"
            ],
            "application/vnd.google.colaboratory.intrinsic+json": {
              "type": "dataframe",
              "variable_name": "cus_final",
              "summary": "{\n  \"name\": \"cus_final\",\n  \"rows\": 87955,\n  \"fields\": [\n    {\n      \"column\": \"\\uace0\\uac1d ID\",\n      \"properties\": {\n        \"dtype\": \"string\",\n        \"num_unique_values\": 87955,\n        \"samples\": [\n          \"CUSTOMER_25645\",\n          \"CUSTOMER_31781\",\n          \"CUSTOMER_05353\"\n        ],\n        \"semantic_type\": \"\",\n        \"description\": \"\"\n      }\n    },\n    {\n      \"column\": \"\\uace0\\uac1d \\uace0\\uc720 ID\",\n      \"properties\": {\n        \"dtype\": \"string\",\n        \"num_unique_values\": 85112,\n        \"samples\": [\n          \"CUSTOMER_Unique_75699\",\n          \"CUSTOMER_Unique_68248\",\n          \"CUSTOMER_Unique_23917\"\n        ],\n        \"semantic_type\": \"\",\n        \"description\": \"\"\n      }\n    },\n    {\n      \"column\": \"\\uc6b0\\ud3b8\\ubc88\\ud638 \\uc55e\\ubd80\\ubd84\",\n      \"properties\": {\n        \"dtype\": \"number\",\n        \"std\": 29858,\n        \"min\": 1004,\n        \"max\": 99980,\n        \"num_unique_values\": 14572,\n        \"samples\": [\n          69049,\n          48415,\n          76850\n        ],\n        \"semantic_type\": \"\",\n        \"description\": \"\"\n      }\n    },\n    {\n      \"column\": \"\\ub3c4\\uc2dc\",\n      \"properties\": {\n        \"dtype\": \"category\",\n        \"num_unique_values\": 3976,\n        \"samples\": [\n          \"sao vendelino\",\n          \"santa maria de jetiba\",\n          \"piraju\"\n        ],\n        \"semantic_type\": \"\",\n        \"description\": \"\"\n      }\n    },\n    {\n      \"column\": \"\\uc8fc\",\n      \"properties\": {\n        \"dtype\": \"category\",\n        \"num_unique_values\": 27,\n        \"samples\": [\n          \"ES\",\n          \"RN\",\n          \"BA\"\n        ],\n        \"semantic_type\": \"\",\n        \"description\": \"\"\n      }\n    },\n    {\n      \"column\": \"\\uace0\\uac1d \\ub3c4\\uc2dc\",\n      \"properties\": {\n        \"dtype\": \"category\",\n        \"num_unique_values\": 3976,\n        \"samples\": [\n          \"sao vendelino\",\n          \"santa maria de jetiba\",\n          \"piraju\"\n        ],\n        \"semantic_type\": \"\",\n        \"description\": \"\"\n      }\n    },\n    {\n      \"column\": \"\\uc8fc \\ud55c\\uad6d\\uba85\",\n      \"properties\": {\n        \"dtype\": \"category\",\n        \"num_unique_values\": 27,\n        \"samples\": [\n          \"\\uc774\\uc2a4\\ud53c\\ub9ac\\ud22c\\uc0b0\\ud22c\\uc8fc\",\n          \"\\ud788\\uc6b0\\uadf8\\ub780\\uc9c0\\ub450\\ub178\\ub974\\uce58\\uc8fc\",\n          \"\\ubc14\\uc774\\uc544\\uc8fc\"\n        ],\n        \"semantic_type\": \"\",\n        \"description\": \"\"\n      }\n    },\n    {\n      \"column\": \"\\uc9c0\\uc5ed\",\n      \"properties\": {\n        \"dtype\": \"category\",\n        \"num_unique_values\": 5,\n        \"samples\": [\n          \"\\ub0a8\\ubd80\",\n          \"\\ubd81\\ub3d9\\ubd80\",\n          \"\\ubd81\\ubd80\"\n        ],\n        \"semantic_type\": \"\",\n        \"description\": \"\"\n      }\n    }\n  ]\n}"
            }
          },
          "metadata": {},
          "execution_count": 5
        }
      ]
    },
    {
      "cell_type": "code",
      "source": [
        "tmp = cus_final.groupby('고객 고유 ID', as_index = False)['고객 ID'].count()\n",
        "tmp.head()"
      ],
      "metadata": {
        "colab": {
          "base_uri": "https://localhost:8080/",
          "height": 206
        },
        "id": "GrXeQ_Emm9H8",
        "outputId": "42a3ba76-a6b4-4e12-9bc7-98300fdbe2d7"
      },
      "execution_count": 6,
      "outputs": [
        {
          "output_type": "execute_result",
          "data": {
            "text/plain": [
              "                고객 고유 ID  고객 ID\n",
              "0  CUSTOMER_Unique_00000      1\n",
              "1  CUSTOMER_Unique_00001      1\n",
              "2  CUSTOMER_Unique_00002      1\n",
              "3  CUSTOMER_Unique_00003      1\n",
              "4  CUSTOMER_Unique_00004      2"
            ],
            "text/html": [
              "\n",
              "  <div id=\"df-ec1a29ab-4ab8-4dbc-aaae-f3b2138ff307\" class=\"colab-df-container\">\n",
              "    <div>\n",
              "<style scoped>\n",
              "    .dataframe tbody tr th:only-of-type {\n",
              "        vertical-align: middle;\n",
              "    }\n",
              "\n",
              "    .dataframe tbody tr th {\n",
              "        vertical-align: top;\n",
              "    }\n",
              "\n",
              "    .dataframe thead th {\n",
              "        text-align: right;\n",
              "    }\n",
              "</style>\n",
              "<table border=\"1\" class=\"dataframe\">\n",
              "  <thead>\n",
              "    <tr style=\"text-align: right;\">\n",
              "      <th></th>\n",
              "      <th>고객 고유 ID</th>\n",
              "      <th>고객 ID</th>\n",
              "    </tr>\n",
              "  </thead>\n",
              "  <tbody>\n",
              "    <tr>\n",
              "      <th>0</th>\n",
              "      <td>CUSTOMER_Unique_00000</td>\n",
              "      <td>1</td>\n",
              "    </tr>\n",
              "    <tr>\n",
              "      <th>1</th>\n",
              "      <td>CUSTOMER_Unique_00001</td>\n",
              "      <td>1</td>\n",
              "    </tr>\n",
              "    <tr>\n",
              "      <th>2</th>\n",
              "      <td>CUSTOMER_Unique_00002</td>\n",
              "      <td>1</td>\n",
              "    </tr>\n",
              "    <tr>\n",
              "      <th>3</th>\n",
              "      <td>CUSTOMER_Unique_00003</td>\n",
              "      <td>1</td>\n",
              "    </tr>\n",
              "    <tr>\n",
              "      <th>4</th>\n",
              "      <td>CUSTOMER_Unique_00004</td>\n",
              "      <td>2</td>\n",
              "    </tr>\n",
              "  </tbody>\n",
              "</table>\n",
              "</div>\n",
              "    <div class=\"colab-df-buttons\">\n",
              "\n",
              "  <div class=\"colab-df-container\">\n",
              "    <button class=\"colab-df-convert\" onclick=\"convertToInteractive('df-ec1a29ab-4ab8-4dbc-aaae-f3b2138ff307')\"\n",
              "            title=\"Convert this dataframe to an interactive table.\"\n",
              "            style=\"display:none;\">\n",
              "\n",
              "  <svg xmlns=\"http://www.w3.org/2000/svg\" height=\"24px\" viewBox=\"0 -960 960 960\">\n",
              "    <path d=\"M120-120v-720h720v720H120Zm60-500h600v-160H180v160Zm220 220h160v-160H400v160Zm0 220h160v-160H400v160ZM180-400h160v-160H180v160Zm440 0h160v-160H620v160ZM180-180h160v-160H180v160Zm440 0h160v-160H620v160Z\"/>\n",
              "  </svg>\n",
              "    </button>\n",
              "\n",
              "  <style>\n",
              "    .colab-df-container {\n",
              "      display:flex;\n",
              "      gap: 12px;\n",
              "    }\n",
              "\n",
              "    .colab-df-convert {\n",
              "      background-color: #E8F0FE;\n",
              "      border: none;\n",
              "      border-radius: 50%;\n",
              "      cursor: pointer;\n",
              "      display: none;\n",
              "      fill: #1967D2;\n",
              "      height: 32px;\n",
              "      padding: 0 0 0 0;\n",
              "      width: 32px;\n",
              "    }\n",
              "\n",
              "    .colab-df-convert:hover {\n",
              "      background-color: #E2EBFA;\n",
              "      box-shadow: 0px 1px 2px rgba(60, 64, 67, 0.3), 0px 1px 3px 1px rgba(60, 64, 67, 0.15);\n",
              "      fill: #174EA6;\n",
              "    }\n",
              "\n",
              "    .colab-df-buttons div {\n",
              "      margin-bottom: 4px;\n",
              "    }\n",
              "\n",
              "    [theme=dark] .colab-df-convert {\n",
              "      background-color: #3B4455;\n",
              "      fill: #D2E3FC;\n",
              "    }\n",
              "\n",
              "    [theme=dark] .colab-df-convert:hover {\n",
              "      background-color: #434B5C;\n",
              "      box-shadow: 0px 1px 3px 1px rgba(0, 0, 0, 0.15);\n",
              "      filter: drop-shadow(0px 1px 2px rgba(0, 0, 0, 0.3));\n",
              "      fill: #FFFFFF;\n",
              "    }\n",
              "  </style>\n",
              "\n",
              "    <script>\n",
              "      const buttonEl =\n",
              "        document.querySelector('#df-ec1a29ab-4ab8-4dbc-aaae-f3b2138ff307 button.colab-df-convert');\n",
              "      buttonEl.style.display =\n",
              "        google.colab.kernel.accessAllowed ? 'block' : 'none';\n",
              "\n",
              "      async function convertToInteractive(key) {\n",
              "        const element = document.querySelector('#df-ec1a29ab-4ab8-4dbc-aaae-f3b2138ff307');\n",
              "        const dataTable =\n",
              "          await google.colab.kernel.invokeFunction('convertToInteractive',\n",
              "                                                    [key], {});\n",
              "        if (!dataTable) return;\n",
              "\n",
              "        const docLinkHtml = 'Like what you see? Visit the ' +\n",
              "          '<a target=\"_blank\" href=https://colab.research.google.com/notebooks/data_table.ipynb>data table notebook</a>'\n",
              "          + ' to learn more about interactive tables.';\n",
              "        element.innerHTML = '';\n",
              "        dataTable['output_type'] = 'display_data';\n",
              "        await google.colab.output.renderOutput(dataTable, element);\n",
              "        const docLink = document.createElement('div');\n",
              "        docLink.innerHTML = docLinkHtml;\n",
              "        element.appendChild(docLink);\n",
              "      }\n",
              "    </script>\n",
              "  </div>\n",
              "\n",
              "\n",
              "<div id=\"df-e8131cbd-89df-4aa0-8942-40fffe42b487\">\n",
              "  <button class=\"colab-df-quickchart\" onclick=\"quickchart('df-e8131cbd-89df-4aa0-8942-40fffe42b487')\"\n",
              "            title=\"Suggest charts\"\n",
              "            style=\"display:none;\">\n",
              "\n",
              "<svg xmlns=\"http://www.w3.org/2000/svg\" height=\"24px\"viewBox=\"0 0 24 24\"\n",
              "     width=\"24px\">\n",
              "    <g>\n",
              "        <path d=\"M19 3H5c-1.1 0-2 .9-2 2v14c0 1.1.9 2 2 2h14c1.1 0 2-.9 2-2V5c0-1.1-.9-2-2-2zM9 17H7v-7h2v7zm4 0h-2V7h2v10zm4 0h-2v-4h2v4z\"/>\n",
              "    </g>\n",
              "</svg>\n",
              "  </button>\n",
              "\n",
              "<style>\n",
              "  .colab-df-quickchart {\n",
              "      --bg-color: #E8F0FE;\n",
              "      --fill-color: #1967D2;\n",
              "      --hover-bg-color: #E2EBFA;\n",
              "      --hover-fill-color: #174EA6;\n",
              "      --disabled-fill-color: #AAA;\n",
              "      --disabled-bg-color: #DDD;\n",
              "  }\n",
              "\n",
              "  [theme=dark] .colab-df-quickchart {\n",
              "      --bg-color: #3B4455;\n",
              "      --fill-color: #D2E3FC;\n",
              "      --hover-bg-color: #434B5C;\n",
              "      --hover-fill-color: #FFFFFF;\n",
              "      --disabled-bg-color: #3B4455;\n",
              "      --disabled-fill-color: #666;\n",
              "  }\n",
              "\n",
              "  .colab-df-quickchart {\n",
              "    background-color: var(--bg-color);\n",
              "    border: none;\n",
              "    border-radius: 50%;\n",
              "    cursor: pointer;\n",
              "    display: none;\n",
              "    fill: var(--fill-color);\n",
              "    height: 32px;\n",
              "    padding: 0;\n",
              "    width: 32px;\n",
              "  }\n",
              "\n",
              "  .colab-df-quickchart:hover {\n",
              "    background-color: var(--hover-bg-color);\n",
              "    box-shadow: 0 1px 2px rgba(60, 64, 67, 0.3), 0 1px 3px 1px rgba(60, 64, 67, 0.15);\n",
              "    fill: var(--button-hover-fill-color);\n",
              "  }\n",
              "\n",
              "  .colab-df-quickchart-complete:disabled,\n",
              "  .colab-df-quickchart-complete:disabled:hover {\n",
              "    background-color: var(--disabled-bg-color);\n",
              "    fill: var(--disabled-fill-color);\n",
              "    box-shadow: none;\n",
              "  }\n",
              "\n",
              "  .colab-df-spinner {\n",
              "    border: 2px solid var(--fill-color);\n",
              "    border-color: transparent;\n",
              "    border-bottom-color: var(--fill-color);\n",
              "    animation:\n",
              "      spin 1s steps(1) infinite;\n",
              "  }\n",
              "\n",
              "  @keyframes spin {\n",
              "    0% {\n",
              "      border-color: transparent;\n",
              "      border-bottom-color: var(--fill-color);\n",
              "      border-left-color: var(--fill-color);\n",
              "    }\n",
              "    20% {\n",
              "      border-color: transparent;\n",
              "      border-left-color: var(--fill-color);\n",
              "      border-top-color: var(--fill-color);\n",
              "    }\n",
              "    30% {\n",
              "      border-color: transparent;\n",
              "      border-left-color: var(--fill-color);\n",
              "      border-top-color: var(--fill-color);\n",
              "      border-right-color: var(--fill-color);\n",
              "    }\n",
              "    40% {\n",
              "      border-color: transparent;\n",
              "      border-right-color: var(--fill-color);\n",
              "      border-top-color: var(--fill-color);\n",
              "    }\n",
              "    60% {\n",
              "      border-color: transparent;\n",
              "      border-right-color: var(--fill-color);\n",
              "    }\n",
              "    80% {\n",
              "      border-color: transparent;\n",
              "      border-right-color: var(--fill-color);\n",
              "      border-bottom-color: var(--fill-color);\n",
              "    }\n",
              "    90% {\n",
              "      border-color: transparent;\n",
              "      border-bottom-color: var(--fill-color);\n",
              "    }\n",
              "  }\n",
              "</style>\n",
              "\n",
              "  <script>\n",
              "    async function quickchart(key) {\n",
              "      const quickchartButtonEl =\n",
              "        document.querySelector('#' + key + ' button');\n",
              "      quickchartButtonEl.disabled = true;  // To prevent multiple clicks.\n",
              "      quickchartButtonEl.classList.add('colab-df-spinner');\n",
              "      try {\n",
              "        const charts = await google.colab.kernel.invokeFunction(\n",
              "            'suggestCharts', [key], {});\n",
              "      } catch (error) {\n",
              "        console.error('Error during call to suggestCharts:', error);\n",
              "      }\n",
              "      quickchartButtonEl.classList.remove('colab-df-spinner');\n",
              "      quickchartButtonEl.classList.add('colab-df-quickchart-complete');\n",
              "    }\n",
              "    (() => {\n",
              "      let quickchartButtonEl =\n",
              "        document.querySelector('#df-e8131cbd-89df-4aa0-8942-40fffe42b487 button');\n",
              "      quickchartButtonEl.style.display =\n",
              "        google.colab.kernel.accessAllowed ? 'block' : 'none';\n",
              "    })();\n",
              "  </script>\n",
              "</div>\n",
              "\n",
              "    </div>\n",
              "  </div>\n"
            ],
            "application/vnd.google.colaboratory.intrinsic+json": {
              "type": "dataframe",
              "variable_name": "tmp",
              "summary": "{\n  \"name\": \"tmp\",\n  \"rows\": 85112,\n  \"fields\": [\n    {\n      \"column\": \"\\uace0\\uac1d \\uace0\\uc720 ID\",\n      \"properties\": {\n        \"dtype\": \"string\",\n        \"num_unique_values\": 85112,\n        \"samples\": [\n          \"CUSTOMER_Unique_75697\",\n          \"CUSTOMER_Unique_68246\",\n          \"CUSTOMER_Unique_23917\"\n        ],\n        \"semantic_type\": \"\",\n        \"description\": \"\"\n      }\n    },\n    {\n      \"column\": \"\\uace0\\uac1d ID\",\n      \"properties\": {\n        \"dtype\": \"number\",\n        \"std\": 0,\n        \"min\": 1,\n        \"max\": 12,\n        \"num_unique_values\": 9,\n        \"samples\": [\n          7,\n          2,\n          6\n        ],\n        \"semantic_type\": \"\",\n        \"description\": \"\"\n      }\n    }\n  ]\n}"
            }
          },
          "metadata": {},
          "execution_count": 6
        }
      ]
    },
    {
      "cell_type": "code",
      "source": [
        "tmp1 = tmp.loc[tmp['고객 ID'] > 1]\n",
        "tmp2 = tmp.loc[tmp['고객 ID'] == 1]\n",
        "# 1번보다 많이 구매한 고객의 고객 고유 ID 리스트\n",
        "revisit_list = list(tmp1['고객 고유 ID'])\n",
        "# 1번 구매한 고객의 고객 고유 ID 리스트\n",
        "onetime_list = list(tmp2['고객 고유 ID'])"
      ],
      "metadata": {
        "id": "bB1wLm9WnNhd"
      },
      "execution_count": 7,
      "outputs": []
    },
    {
      "cell_type": "markdown",
      "source": [
        "# 전처리"
      ],
      "metadata": {
        "id": "XobiBo2psFUN"
      }
    },
    {
      "cell_type": "code",
      "source": [
        "final = pd.read_csv('/content/drive/MyDrive/멋사 프로그래밍/13. 데이터톤/최종합본_final.csv')\n",
        "final.head()"
      ],
      "metadata": {
        "colab": {
          "base_uri": "https://localhost:8080/",
          "height": 357
        },
        "id": "zkxEAhWFjQI3",
        "outputId": "43aa1a38-608b-4d13-ac60-4aedd42d8ed2"
      },
      "execution_count": 8,
      "outputs": [
        {
          "output_type": "execute_result",
          "data": {
            "text/plain": [
              "   Unnamed: 0     주문 고유 ID           고객 ID      주문 상태                구매 시간  \\\n",
              "0           0  ORDER_00000  CUSTOMER_62232  delivered  2018-10-02 10:56:33   \n",
              "1           1  ORDER_00000  CUSTOMER_62232  delivered  2018-10-02 10:56:33   \n",
              "2           2  ORDER_00000  CUSTOMER_62232  delivered  2018-10-02 10:56:33   \n",
              "3           3  ORDER_00001  CUSTOMER_54059  delivered  2018-11-18 19:28:06   \n",
              "4           4  ORDER_00002  CUSTOMER_59535  delivered  2019-02-13 21:18:39   \n",
              "\n",
              "              물류 처리 시간             실제 배송 날짜    기대 배송 날짜  \\\n",
              "0  2018-10-04 19:55:00  2018-10-10 21:25:13  2018-10-18   \n",
              "1  2018-10-04 19:55:00  2018-10-10 21:25:13  2018-10-18   \n",
              "2  2018-10-04 19:55:00  2018-10-10 21:25:13  2018-10-18   \n",
              "3  2018-11-22 13:39:59  2018-12-02 00:28:42  2018-12-15   \n",
              "4  2019-02-14 19:46:34  2019-02-16 18:17:02  2019-02-26   \n",
              "\n",
              "                고객 고유 ID  우편번호 앞부분  ...         카테고리 이름 제품 무게(g) 제품 길이(cm)  \\\n",
              "0  CUSTOMER_Unique_60785      3149  ...  home_utilities    500.0      19.0   \n",
              "1  CUSTOMER_Unique_60785      3149  ...  home_utilities    500.0      19.0   \n",
              "2  CUSTOMER_Unique_60785      3149  ...  home_utilities    500.0      19.0   \n",
              "3  CUSTOMER_Unique_52983     59296  ...        pet_shop    450.0      30.0   \n",
              "4  CUSTOMER_Unique_58227      9195  ...      stationery    250.0      51.0   \n",
              "\n",
              "  제품 높이(cm)  제품 너비(cm)          상위 카테고리  판매자 우편번호 앞자리     판매자 도시(city)  \\\n",
              "0       8.0       13.0             home        9350.0             maua   \n",
              "1       8.0       13.0             home        9350.0             maua   \n",
              "2       8.0       13.0             home        9350.0             maua   \n",
              "3      10.0       20.0             pets       31842.0   belo horizonte   \n",
              "4      15.0       15.0  office_supplies        8752.0  mogi das cruzes   \n",
              "\n",
              "  판매자 주(state)      총구매금액  \n",
              "0           SP   543.4188  \n",
              "1           SP    59.9800  \n",
              "2           SP   557.5141  \n",
              "3           MG  3249.0000  \n",
              "4           SP   569.5380  \n",
              "\n",
              "[5 rows x 39 columns]"
            ],
            "text/html": [
              "\n",
              "  <div id=\"df-0801463d-06aa-46e5-b9d9-4225223c8dfe\" class=\"colab-df-container\">\n",
              "    <div>\n",
              "<style scoped>\n",
              "    .dataframe tbody tr th:only-of-type {\n",
              "        vertical-align: middle;\n",
              "    }\n",
              "\n",
              "    .dataframe tbody tr th {\n",
              "        vertical-align: top;\n",
              "    }\n",
              "\n",
              "    .dataframe thead th {\n",
              "        text-align: right;\n",
              "    }\n",
              "</style>\n",
              "<table border=\"1\" class=\"dataframe\">\n",
              "  <thead>\n",
              "    <tr style=\"text-align: right;\">\n",
              "      <th></th>\n",
              "      <th>Unnamed: 0</th>\n",
              "      <th>주문 고유 ID</th>\n",
              "      <th>고객 ID</th>\n",
              "      <th>주문 상태</th>\n",
              "      <th>구매 시간</th>\n",
              "      <th>물류 처리 시간</th>\n",
              "      <th>실제 배송 날짜</th>\n",
              "      <th>기대 배송 날짜</th>\n",
              "      <th>고객 고유 ID</th>\n",
              "      <th>우편번호 앞부분</th>\n",
              "      <th>...</th>\n",
              "      <th>카테고리 이름</th>\n",
              "      <th>제품 무게(g)</th>\n",
              "      <th>제품 길이(cm)</th>\n",
              "      <th>제품 높이(cm)</th>\n",
              "      <th>제품 너비(cm)</th>\n",
              "      <th>상위 카테고리</th>\n",
              "      <th>판매자 우편번호 앞자리</th>\n",
              "      <th>판매자 도시(city)</th>\n",
              "      <th>판매자 주(state)</th>\n",
              "      <th>총구매금액</th>\n",
              "    </tr>\n",
              "  </thead>\n",
              "  <tbody>\n",
              "    <tr>\n",
              "      <th>0</th>\n",
              "      <td>0</td>\n",
              "      <td>ORDER_00000</td>\n",
              "      <td>CUSTOMER_62232</td>\n",
              "      <td>delivered</td>\n",
              "      <td>2018-10-02 10:56:33</td>\n",
              "      <td>2018-10-04 19:55:00</td>\n",
              "      <td>2018-10-10 21:25:13</td>\n",
              "      <td>2018-10-18</td>\n",
              "      <td>CUSTOMER_Unique_60785</td>\n",
              "      <td>3149</td>\n",
              "      <td>...</td>\n",
              "      <td>home_utilities</td>\n",
              "      <td>500.0</td>\n",
              "      <td>19.0</td>\n",
              "      <td>8.0</td>\n",
              "      <td>13.0</td>\n",
              "      <td>home</td>\n",
              "      <td>9350.0</td>\n",
              "      <td>maua</td>\n",
              "      <td>SP</td>\n",
              "      <td>543.4188</td>\n",
              "    </tr>\n",
              "    <tr>\n",
              "      <th>1</th>\n",
              "      <td>1</td>\n",
              "      <td>ORDER_00000</td>\n",
              "      <td>CUSTOMER_62232</td>\n",
              "      <td>delivered</td>\n",
              "      <td>2018-10-02 10:56:33</td>\n",
              "      <td>2018-10-04 19:55:00</td>\n",
              "      <td>2018-10-10 21:25:13</td>\n",
              "      <td>2018-10-18</td>\n",
              "      <td>CUSTOMER_Unique_60785</td>\n",
              "      <td>3149</td>\n",
              "      <td>...</td>\n",
              "      <td>home_utilities</td>\n",
              "      <td>500.0</td>\n",
              "      <td>19.0</td>\n",
              "      <td>8.0</td>\n",
              "      <td>13.0</td>\n",
              "      <td>home</td>\n",
              "      <td>9350.0</td>\n",
              "      <td>maua</td>\n",
              "      <td>SP</td>\n",
              "      <td>59.9800</td>\n",
              "    </tr>\n",
              "    <tr>\n",
              "      <th>2</th>\n",
              "      <td>2</td>\n",
              "      <td>ORDER_00000</td>\n",
              "      <td>CUSTOMER_62232</td>\n",
              "      <td>delivered</td>\n",
              "      <td>2018-10-02 10:56:33</td>\n",
              "      <td>2018-10-04 19:55:00</td>\n",
              "      <td>2018-10-10 21:25:13</td>\n",
              "      <td>2018-10-18</td>\n",
              "      <td>CUSTOMER_Unique_60785</td>\n",
              "      <td>3149</td>\n",
              "      <td>...</td>\n",
              "      <td>home_utilities</td>\n",
              "      <td>500.0</td>\n",
              "      <td>19.0</td>\n",
              "      <td>8.0</td>\n",
              "      <td>13.0</td>\n",
              "      <td>home</td>\n",
              "      <td>9350.0</td>\n",
              "      <td>maua</td>\n",
              "      <td>SP</td>\n",
              "      <td>557.5141</td>\n",
              "    </tr>\n",
              "    <tr>\n",
              "      <th>3</th>\n",
              "      <td>3</td>\n",
              "      <td>ORDER_00001</td>\n",
              "      <td>CUSTOMER_54059</td>\n",
              "      <td>delivered</td>\n",
              "      <td>2018-11-18 19:28:06</td>\n",
              "      <td>2018-11-22 13:39:59</td>\n",
              "      <td>2018-12-02 00:28:42</td>\n",
              "      <td>2018-12-15</td>\n",
              "      <td>CUSTOMER_Unique_52983</td>\n",
              "      <td>59296</td>\n",
              "      <td>...</td>\n",
              "      <td>pet_shop</td>\n",
              "      <td>450.0</td>\n",
              "      <td>30.0</td>\n",
              "      <td>10.0</td>\n",
              "      <td>20.0</td>\n",
              "      <td>pets</td>\n",
              "      <td>31842.0</td>\n",
              "      <td>belo horizonte</td>\n",
              "      <td>MG</td>\n",
              "      <td>3249.0000</td>\n",
              "    </tr>\n",
              "    <tr>\n",
              "      <th>4</th>\n",
              "      <td>4</td>\n",
              "      <td>ORDER_00002</td>\n",
              "      <td>CUSTOMER_59535</td>\n",
              "      <td>delivered</td>\n",
              "      <td>2019-02-13 21:18:39</td>\n",
              "      <td>2019-02-14 19:46:34</td>\n",
              "      <td>2019-02-16 18:17:02</td>\n",
              "      <td>2019-02-26</td>\n",
              "      <td>CUSTOMER_Unique_58227</td>\n",
              "      <td>9195</td>\n",
              "      <td>...</td>\n",
              "      <td>stationery</td>\n",
              "      <td>250.0</td>\n",
              "      <td>51.0</td>\n",
              "      <td>15.0</td>\n",
              "      <td>15.0</td>\n",
              "      <td>office_supplies</td>\n",
              "      <td>8752.0</td>\n",
              "      <td>mogi das cruzes</td>\n",
              "      <td>SP</td>\n",
              "      <td>569.5380</td>\n",
              "    </tr>\n",
              "  </tbody>\n",
              "</table>\n",
              "<p>5 rows × 39 columns</p>\n",
              "</div>\n",
              "    <div class=\"colab-df-buttons\">\n",
              "\n",
              "  <div class=\"colab-df-container\">\n",
              "    <button class=\"colab-df-convert\" onclick=\"convertToInteractive('df-0801463d-06aa-46e5-b9d9-4225223c8dfe')\"\n",
              "            title=\"Convert this dataframe to an interactive table.\"\n",
              "            style=\"display:none;\">\n",
              "\n",
              "  <svg xmlns=\"http://www.w3.org/2000/svg\" height=\"24px\" viewBox=\"0 -960 960 960\">\n",
              "    <path d=\"M120-120v-720h720v720H120Zm60-500h600v-160H180v160Zm220 220h160v-160H400v160Zm0 220h160v-160H400v160ZM180-400h160v-160H180v160Zm440 0h160v-160H620v160ZM180-180h160v-160H180v160Zm440 0h160v-160H620v160Z\"/>\n",
              "  </svg>\n",
              "    </button>\n",
              "\n",
              "  <style>\n",
              "    .colab-df-container {\n",
              "      display:flex;\n",
              "      gap: 12px;\n",
              "    }\n",
              "\n",
              "    .colab-df-convert {\n",
              "      background-color: #E8F0FE;\n",
              "      border: none;\n",
              "      border-radius: 50%;\n",
              "      cursor: pointer;\n",
              "      display: none;\n",
              "      fill: #1967D2;\n",
              "      height: 32px;\n",
              "      padding: 0 0 0 0;\n",
              "      width: 32px;\n",
              "    }\n",
              "\n",
              "    .colab-df-convert:hover {\n",
              "      background-color: #E2EBFA;\n",
              "      box-shadow: 0px 1px 2px rgba(60, 64, 67, 0.3), 0px 1px 3px 1px rgba(60, 64, 67, 0.15);\n",
              "      fill: #174EA6;\n",
              "    }\n",
              "\n",
              "    .colab-df-buttons div {\n",
              "      margin-bottom: 4px;\n",
              "    }\n",
              "\n",
              "    [theme=dark] .colab-df-convert {\n",
              "      background-color: #3B4455;\n",
              "      fill: #D2E3FC;\n",
              "    }\n",
              "\n",
              "    [theme=dark] .colab-df-convert:hover {\n",
              "      background-color: #434B5C;\n",
              "      box-shadow: 0px 1px 3px 1px rgba(0, 0, 0, 0.15);\n",
              "      filter: drop-shadow(0px 1px 2px rgba(0, 0, 0, 0.3));\n",
              "      fill: #FFFFFF;\n",
              "    }\n",
              "  </style>\n",
              "\n",
              "    <script>\n",
              "      const buttonEl =\n",
              "        document.querySelector('#df-0801463d-06aa-46e5-b9d9-4225223c8dfe button.colab-df-convert');\n",
              "      buttonEl.style.display =\n",
              "        google.colab.kernel.accessAllowed ? 'block' : 'none';\n",
              "\n",
              "      async function convertToInteractive(key) {\n",
              "        const element = document.querySelector('#df-0801463d-06aa-46e5-b9d9-4225223c8dfe');\n",
              "        const dataTable =\n",
              "          await google.colab.kernel.invokeFunction('convertToInteractive',\n",
              "                                                    [key], {});\n",
              "        if (!dataTable) return;\n",
              "\n",
              "        const docLinkHtml = 'Like what you see? Visit the ' +\n",
              "          '<a target=\"_blank\" href=https://colab.research.google.com/notebooks/data_table.ipynb>data table notebook</a>'\n",
              "          + ' to learn more about interactive tables.';\n",
              "        element.innerHTML = '';\n",
              "        dataTable['output_type'] = 'display_data';\n",
              "        await google.colab.output.renderOutput(dataTable, element);\n",
              "        const docLink = document.createElement('div');\n",
              "        docLink.innerHTML = docLinkHtml;\n",
              "        element.appendChild(docLink);\n",
              "      }\n",
              "    </script>\n",
              "  </div>\n",
              "\n",
              "\n",
              "<div id=\"df-ff485b85-663b-4a0b-8987-ca285bc33619\">\n",
              "  <button class=\"colab-df-quickchart\" onclick=\"quickchart('df-ff485b85-663b-4a0b-8987-ca285bc33619')\"\n",
              "            title=\"Suggest charts\"\n",
              "            style=\"display:none;\">\n",
              "\n",
              "<svg xmlns=\"http://www.w3.org/2000/svg\" height=\"24px\"viewBox=\"0 0 24 24\"\n",
              "     width=\"24px\">\n",
              "    <g>\n",
              "        <path d=\"M19 3H5c-1.1 0-2 .9-2 2v14c0 1.1.9 2 2 2h14c1.1 0 2-.9 2-2V5c0-1.1-.9-2-2-2zM9 17H7v-7h2v7zm4 0h-2V7h2v10zm4 0h-2v-4h2v4z\"/>\n",
              "    </g>\n",
              "</svg>\n",
              "  </button>\n",
              "\n",
              "<style>\n",
              "  .colab-df-quickchart {\n",
              "      --bg-color: #E8F0FE;\n",
              "      --fill-color: #1967D2;\n",
              "      --hover-bg-color: #E2EBFA;\n",
              "      --hover-fill-color: #174EA6;\n",
              "      --disabled-fill-color: #AAA;\n",
              "      --disabled-bg-color: #DDD;\n",
              "  }\n",
              "\n",
              "  [theme=dark] .colab-df-quickchart {\n",
              "      --bg-color: #3B4455;\n",
              "      --fill-color: #D2E3FC;\n",
              "      --hover-bg-color: #434B5C;\n",
              "      --hover-fill-color: #FFFFFF;\n",
              "      --disabled-bg-color: #3B4455;\n",
              "      --disabled-fill-color: #666;\n",
              "  }\n",
              "\n",
              "  .colab-df-quickchart {\n",
              "    background-color: var(--bg-color);\n",
              "    border: none;\n",
              "    border-radius: 50%;\n",
              "    cursor: pointer;\n",
              "    display: none;\n",
              "    fill: var(--fill-color);\n",
              "    height: 32px;\n",
              "    padding: 0;\n",
              "    width: 32px;\n",
              "  }\n",
              "\n",
              "  .colab-df-quickchart:hover {\n",
              "    background-color: var(--hover-bg-color);\n",
              "    box-shadow: 0 1px 2px rgba(60, 64, 67, 0.3), 0 1px 3px 1px rgba(60, 64, 67, 0.15);\n",
              "    fill: var(--button-hover-fill-color);\n",
              "  }\n",
              "\n",
              "  .colab-df-quickchart-complete:disabled,\n",
              "  .colab-df-quickchart-complete:disabled:hover {\n",
              "    background-color: var(--disabled-bg-color);\n",
              "    fill: var(--disabled-fill-color);\n",
              "    box-shadow: none;\n",
              "  }\n",
              "\n",
              "  .colab-df-spinner {\n",
              "    border: 2px solid var(--fill-color);\n",
              "    border-color: transparent;\n",
              "    border-bottom-color: var(--fill-color);\n",
              "    animation:\n",
              "      spin 1s steps(1) infinite;\n",
              "  }\n",
              "\n",
              "  @keyframes spin {\n",
              "    0% {\n",
              "      border-color: transparent;\n",
              "      border-bottom-color: var(--fill-color);\n",
              "      border-left-color: var(--fill-color);\n",
              "    }\n",
              "    20% {\n",
              "      border-color: transparent;\n",
              "      border-left-color: var(--fill-color);\n",
              "      border-top-color: var(--fill-color);\n",
              "    }\n",
              "    30% {\n",
              "      border-color: transparent;\n",
              "      border-left-color: var(--fill-color);\n",
              "      border-top-color: var(--fill-color);\n",
              "      border-right-color: var(--fill-color);\n",
              "    }\n",
              "    40% {\n",
              "      border-color: transparent;\n",
              "      border-right-color: var(--fill-color);\n",
              "      border-top-color: var(--fill-color);\n",
              "    }\n",
              "    60% {\n",
              "      border-color: transparent;\n",
              "      border-right-color: var(--fill-color);\n",
              "    }\n",
              "    80% {\n",
              "      border-color: transparent;\n",
              "      border-right-color: var(--fill-color);\n",
              "      border-bottom-color: var(--fill-color);\n",
              "    }\n",
              "    90% {\n",
              "      border-color: transparent;\n",
              "      border-bottom-color: var(--fill-color);\n",
              "    }\n",
              "  }\n",
              "</style>\n",
              "\n",
              "  <script>\n",
              "    async function quickchart(key) {\n",
              "      const quickchartButtonEl =\n",
              "        document.querySelector('#' + key + ' button');\n",
              "      quickchartButtonEl.disabled = true;  // To prevent multiple clicks.\n",
              "      quickchartButtonEl.classList.add('colab-df-spinner');\n",
              "      try {\n",
              "        const charts = await google.colab.kernel.invokeFunction(\n",
              "            'suggestCharts', [key], {});\n",
              "      } catch (error) {\n",
              "        console.error('Error during call to suggestCharts:', error);\n",
              "      }\n",
              "      quickchartButtonEl.classList.remove('colab-df-spinner');\n",
              "      quickchartButtonEl.classList.add('colab-df-quickchart-complete');\n",
              "    }\n",
              "    (() => {\n",
              "      let quickchartButtonEl =\n",
              "        document.querySelector('#df-ff485b85-663b-4a0b-8987-ca285bc33619 button');\n",
              "      quickchartButtonEl.style.display =\n",
              "        google.colab.kernel.accessAllowed ? 'block' : 'none';\n",
              "    })();\n",
              "  </script>\n",
              "</div>\n",
              "\n",
              "    </div>\n",
              "  </div>\n"
            ],
            "application/vnd.google.colaboratory.intrinsic+json": {
              "type": "dataframe",
              "variable_name": "final"
            }
          },
          "metadata": {},
          "execution_count": 8
        }
      ]
    },
    {
      "cell_type": "markdown",
      "source": [
        "## 시간 타입으로 변경"
      ],
      "metadata": {
        "id": "AyVDUe8gCHkv"
      }
    },
    {
      "cell_type": "code",
      "source": [
        "final['구매 시간'] = pd.to_datetime(final['구매 시간']).astype('datetime64[ns]')\n",
        "final['물류 처리 시간'] = pd.to_datetime(final['물류 처리 시간']).astype('datetime64[ns]')\n",
        "final['실제 배송 날짜'] = pd.to_datetime(final['실제 배송 날짜']).astype('datetime64[ns]')\n",
        "final['기대 배송 날짜'] = pd.to_datetime(final['기대 배송 날짜']).astype('datetime64[ns]')\n",
        "\n",
        "final['리뷰 생성 시간'] = pd.to_datetime(final['리뷰 생성 시간']).astype('datetime64[ns]')\n",
        "final['리뷰 답변 시간'] = pd.to_datetime(final['리뷰 답변 시간']).astype('datetime64[ns]')"
      ],
      "metadata": {
        "id": "zW3agOuj0wuA"
      },
      "execution_count": 9,
      "outputs": []
    },
    {
      "cell_type": "markdown",
      "source": [
        "## 파생 변수 추가"
      ],
      "metadata": {
        "id": "fKPKCp5rCNyM"
      }
    },
    {
      "cell_type": "code",
      "source": [
        "# 한 고객이 한 번 구매할 때의 총 금액\n",
        "final['총 금액'] = final['판매 가격'] + final['품목 화물 가격']\n",
        "# 세 컬럼으로 부피를 계산해 하나의 컬럼으로 축소\n",
        "final['부피'] = final['제품 길이(cm)'] * final['제품 높이(cm)'] * final['제품 너비(cm)']\n",
        "\n",
        "# 시간 컬럼을 쉽게 전처리하기 위해 배송 간의 시간을 확인하는 컬럼 추가\n",
        "final['배송 시간'] = final['실제 배송 날짜'] - final['구매 시간']\n",
        "final['기대실제 배송시간'] = final['기대 배송 날짜'] - final['실제 배송 날짜']\n",
        "final['답변 시간'] = final['리뷰 답변 시간'] - final['리뷰 생성 시간']"
      ],
      "metadata": {
        "id": "VDwC8VLVz6gn"
      },
      "execution_count": 10,
      "outputs": []
    },
    {
      "cell_type": "markdown",
      "source": [
        "## 사용하지 않을 컬럼 및 파생 변수 생성 시 사용한 변수들 제거"
      ],
      "metadata": {
        "id": "DbK3aTYsCdKZ"
      }
    },
    {
      "cell_type": "code",
      "source": [
        "final.drop(columns= ['Unnamed: 0', '판매자 고유 ID',  '리뷰 고유 ID', '구매 시간', '물류 처리 시간', '실제 배송 날짜', '기대 배송 날짜', '총구매금액', '거래 금액', '리뷰 생성 시간', '리뷰 답변 시간'], inplace = True)"
      ],
      "metadata": {
        "id": "AY7O91edcAfN",
        "collapsed": true
      },
      "execution_count": 11,
      "outputs": []
    },
    {
      "cell_type": "markdown",
      "source": [
        "## 중복 행을 제거"
      ],
      "metadata": {
        "id": "MqqvsNcYCjHx"
      }
    },
    {
      "cell_type": "code",
      "source": [
        "final = final.drop_duplicates(subset = ['주문 고유 ID', '고객 ID', '고객 고유 ID'])"
      ],
      "metadata": {
        "id": "DMxJ_IzO7nJT"
      },
      "execution_count": 12,
      "outputs": []
    },
    {
      "cell_type": "markdown",
      "source": [
        "# 해당 로우는 주문 품목 수, 물품의 무게 등에 관한 정보가 없어서 1개의 로우 제거"
      ],
      "metadata": {
        "id": "CCUDDh16CmG-"
      }
    },
    {
      "cell_type": "code",
      "source": [
        "final.drop(final.loc[final['주문 품목 수'].isnull()].index, inplace = True)"
      ],
      "metadata": {
        "id": "zF_sfuRmt3wv"
      },
      "execution_count": 13,
      "outputs": []
    },
    {
      "cell_type": "markdown",
      "source": [
        "## 결측치 값들을 대체"
      ],
      "metadata": {
        "id": "J7IEmzWQCvB1"
      }
    },
    {
      "cell_type": "code",
      "source": [
        "final['주 한국명'] = final['주 한국명'].fillna('Unknown')\n",
        "final['지역'] = final['지역'].fillna('Unknown')\n",
        "final['고객 위도'] = final['고객 위도'].fillna(final['고객 위도'].median())\n",
        "final['고객 경도'] = final['고객 경도'].fillna(final['고객 경도'].median())\n",
        "\n",
        "final['카테고리 이름'] = final['카테고리 이름'].fillna('Unknown')\n",
        "final['상위 카테고리'] = final['상위 카테고리'].fillna('Unknown')\n",
        "\n",
        "final['부피'] = final['부피'].fillna(round(final['부피'].mean(),0))\n",
        "final['제품 무게(g)'] = final['제품 무게(g)'].fillna(round(final['제품 무게(g)'].mean(),0))\n",
        "final['제품 길이(cm)'] = final['제품 길이(cm)'].fillna(round(final['제품 길이(cm)'].mean(),0))\n",
        "final['제품 높이(cm)'] = final['제품 높이(cm)'].fillna(round(final['제품 높이(cm)'].mean(),0))\n",
        "final['제품 너비(cm)'] = final['제품 너비(cm)'].fillna(round(final['제품 너비(cm)'].mean(),0))\n",
        "\n",
        "final['리뷰 점수'] = final['리뷰 점수'].fillna(final['리뷰 점수'].mode().values[0])\n",
        "final['답변 시간'] = final['답변 시간'].fillna(datetime.timedelta(days = 1))"
      ],
      "metadata": {
        "id": "muh5Hg1hyaJk"
      },
      "execution_count": 14,
      "outputs": []
    },
    {
      "cell_type": "code",
      "source": [
        "final.isnull().sum()"
      ],
      "metadata": {
        "colab": {
          "base_uri": "https://localhost:8080/"
        },
        "id": "t59DKZQjtfqh",
        "outputId": "38cdd259-7cb4-4e56-f082-d66cf4d3686b"
      },
      "execution_count": 15,
      "outputs": [
        {
          "output_type": "execute_result",
          "data": {
            "text/plain": [
              "주문 고유 ID        0\n",
              "고객 ID           0\n",
              "주문 상태           0\n",
              "고객 고유 ID        0\n",
              "우편번호 앞부분        0\n",
              "도시              0\n",
              "주               0\n",
              "주 한국명           0\n",
              "지역              0\n",
              "고객 위도           0\n",
              "고객 경도           0\n",
              "주문 품목 수         0\n",
              "제품 고유 ID        0\n",
              "판매 가격           0\n",
              "품목 화물 가격        0\n",
              "결제 시퀀스          0\n",
              "지불 방법           0\n",
              "할부 횟수           0\n",
              "리뷰 점수           0\n",
              "카테고리 이름         0\n",
              "제품 무게(g)        0\n",
              "제품 길이(cm)       0\n",
              "제품 높이(cm)       0\n",
              "제품 너비(cm)       0\n",
              "상위 카테고리         0\n",
              "판매자 우편번호 앞자리    0\n",
              "판매자 도시(city)    0\n",
              "판매자 주(state)    0\n",
              "총 금액            0\n",
              "부피              0\n",
              "배송 시간           0\n",
              "기대실제 배송시간       0\n",
              "답변 시간           0\n",
              "dtype: int64"
            ]
          },
          "metadata": {},
          "execution_count": 15
        }
      ]
    },
    {
      "cell_type": "markdown",
      "source": [
        "# 중복 제거를 통해 바뀐 인덱스를 재정렬"
      ],
      "metadata": {
        "id": "pU6J8pT-CzVh"
      }
    },
    {
      "cell_type": "code",
      "source": [
        "final = final.reset_index(drop = True)"
      ],
      "metadata": {
        "id": "81WGvlCN-Txa"
      },
      "execution_count": 16,
      "outputs": []
    },
    {
      "cell_type": "markdown",
      "source": [
        "## 이탈 : 재구매가 이루어지지 않으면 이탈로 정의\n",
        "  - 이탈을 하지 않았으면 1, 이탈을 하면 0"
      ],
      "metadata": {
        "id": "GBQTpbdgC4T2"
      }
    },
    {
      "cell_type": "markdown",
      "source": [
        "### 이탈 컬럼을 일괄적으로 추가"
      ],
      "metadata": {
        "id": "jWFx9B2fDDJA"
      }
    },
    {
      "cell_type": "code",
      "source": [
        "final['이탈 고객'] = 0"
      ],
      "metadata": {
        "id": "6PWmpMMq5bmk"
      },
      "execution_count": 17,
      "outputs": []
    },
    {
      "cell_type": "markdown",
      "source": [
        "### 정의한 이탈에 따라 재구매한 고객들을 대상으로 1로 변경"
      ],
      "metadata": {
        "id": "ZldTCwKsDFl3"
      }
    },
    {
      "cell_type": "code",
      "source": [
        "final.loc[final['고객 고유 ID'].isin(revisit_list), '이탈 고객' :] = 1"
      ],
      "metadata": {
        "id": "P8ZDAxjP4jyi"
      },
      "execution_count": 18,
      "outputs": []
    },
    {
      "cell_type": "markdown",
      "source": [
        "### ID 관련 컬럼 삭제"
      ],
      "metadata": {
        "id": "xRyGH6UjDqQq"
      }
    },
    {
      "cell_type": "code",
      "source": [
        "final.drop(columns = ['주문 고유 ID', '고객 ID', '고객 고유 ID', '제품 고유 ID'], inplace = True)"
      ],
      "metadata": {
        "id": "Fn8go2WFpJdU"
      },
      "execution_count": 19,
      "outputs": []
    },
    {
      "cell_type": "markdown",
      "source": [
        "## timedelta 컬럼 days의 숫자로 변경"
      ],
      "metadata": {
        "id": "cLkQQouzDN_y"
      }
    },
    {
      "cell_type": "code",
      "source": [
        "final['배송 시간'] = final['배송 시간'].dt.days\n",
        "final['기대실제 배송시간'] = final['기대실제 배송시간'].dt.days\n",
        "final['답변 시간'] = final['답변 시간'].dt.days"
      ],
      "metadata": {
        "id": "UjUgBJrJ1snh"
      },
      "execution_count": 20,
      "outputs": []
    },
    {
      "cell_type": "markdown",
      "source": [
        "# 범주형 변수 처리 전 파일 저장"
      ],
      "metadata": {
        "id": "Xfvs5XK_OHgt"
      }
    },
    {
      "cell_type": "code",
      "source": [
        "# final.to_csv('시각화_버전.csv', index = False)"
      ],
      "metadata": {
        "id": "WdeMAAhNOGw5"
      },
      "execution_count": 21,
      "outputs": []
    },
    {
      "cell_type": "markdown",
      "source": [
        "## 범주형 변수 관련 인코딩"
      ],
      "metadata": {
        "id": "7Oqyy2I2Dbx7"
      }
    },
    {
      "cell_type": "code",
      "source": [
        "cat_list = ['주문 상태', '도시', '주', '주 한국명', '지역', '지불 방법 ', '카테고리 이름', '상위 카테고리', '판매자 도시(city)', '판매자 주(state)']"
      ],
      "metadata": {
        "id": "eabN_TF8_5P_"
      },
      "execution_count": 22,
      "outputs": []
    },
    {
      "cell_type": "code",
      "source": [
        "le = LabelEncoder()\n",
        "\n",
        "for cat in cat_list:\n",
        "  final[cat] = le.fit_transform(final[cat])"
      ],
      "metadata": {
        "id": "DJXUlFF8_EoF"
      },
      "execution_count": 23,
      "outputs": []
    },
    {
      "cell_type": "markdown",
      "source": [
        "## csv 파일로 변환"
      ],
      "metadata": {
        "id": "jaQ3aYa_Dk-S"
      }
    },
    {
      "cell_type": "code",
      "source": [
        "# final.to_csv('final_전처리_컬럼안제거_버전.csv', index = False)"
      ],
      "metadata": {
        "id": "d-8dNN9JAlWa"
      },
      "execution_count": 24,
      "outputs": []
    },
    {
      "cell_type": "markdown",
      "source": [
        "# 전처리한 파일 불러오기"
      ],
      "metadata": {
        "id": "ltOEotNnJP8k"
      }
    },
    {
      "cell_type": "code",
      "source": [
        "final = pd.read_csv('/content/drive/MyDrive/멋사 프로그래밍/13. 데이터톤/final_전처리_컬럼안제거_버전.csv')\n",
        "final.head()"
      ],
      "metadata": {
        "colab": {
          "base_uri": "https://localhost:8080/",
          "height": 253
        },
        "id": "1hEkpRGKJPDG",
        "outputId": "52559948-5418-4a4f-e547-08d74516e88a"
      },
      "execution_count": 25,
      "outputs": [
        {
          "output_type": "execute_result",
          "data": {
            "text/plain": [
              "   주문 상태  우편번호 앞부분    도시   주  주 한국명  지역      고객 위도      고객 경도  주문 품목 수  \\\n",
              "0      1      3149  3476  25      9   1 -23.575816 -46.587303      1.0   \n",
              "1      1     59296  3355  19     26   3  -5.773971 -35.273838      1.0   \n",
              "2      1      9195  3264  25      9   1 -23.675471 -46.514788      1.0   \n",
              "3      1     86320  1000  17     19   2 -23.551117 -50.551613      1.0   \n",
              "4      1     26525  2375  18      2   1 -22.805728 -43.423190      1.0   \n",
              "\n",
              "    판매 가격  ...  상위 카테고리  판매자 우편번호 앞자리  판매자 도시(city)  판매자 주(state)    총 금액  \\\n",
              "0   29.99  ...       10        9350.0           309            21   38.71   \n",
              "1   45.00  ...       15       31842.0            61             7   72.20   \n",
              "2   19.90  ...       14        8752.0           318            21   28.62   \n",
              "3  147.90  ...        2        7112.0           208            21  175.26   \n",
              "4   59.99  ...        2       12940.0            37            21   75.16   \n",
              "\n",
              "        부피  배송 시간  기대실제 배송시간  답변 시간  이탈 고객  \n",
              "0   1976.0      8          7      1      1  \n",
              "1   6000.0     13         12      2      0  \n",
              "2  11475.0      2          9      1      0  \n",
              "3  42250.0     16          5      0      0  \n",
              "4   4352.0      9         11      1      0  \n",
              "\n",
              "[5 rows x 30 columns]"
            ],
            "text/html": [
              "\n",
              "  <div id=\"df-009dfc76-501e-48a1-b015-00f30dbe2de2\" class=\"colab-df-container\">\n",
              "    <div>\n",
              "<style scoped>\n",
              "    .dataframe tbody tr th:only-of-type {\n",
              "        vertical-align: middle;\n",
              "    }\n",
              "\n",
              "    .dataframe tbody tr th {\n",
              "        vertical-align: top;\n",
              "    }\n",
              "\n",
              "    .dataframe thead th {\n",
              "        text-align: right;\n",
              "    }\n",
              "</style>\n",
              "<table border=\"1\" class=\"dataframe\">\n",
              "  <thead>\n",
              "    <tr style=\"text-align: right;\">\n",
              "      <th></th>\n",
              "      <th>주문 상태</th>\n",
              "      <th>우편번호 앞부분</th>\n",
              "      <th>도시</th>\n",
              "      <th>주</th>\n",
              "      <th>주 한국명</th>\n",
              "      <th>지역</th>\n",
              "      <th>고객 위도</th>\n",
              "      <th>고객 경도</th>\n",
              "      <th>주문 품목 수</th>\n",
              "      <th>판매 가격</th>\n",
              "      <th>...</th>\n",
              "      <th>상위 카테고리</th>\n",
              "      <th>판매자 우편번호 앞자리</th>\n",
              "      <th>판매자 도시(city)</th>\n",
              "      <th>판매자 주(state)</th>\n",
              "      <th>총 금액</th>\n",
              "      <th>부피</th>\n",
              "      <th>배송 시간</th>\n",
              "      <th>기대실제 배송시간</th>\n",
              "      <th>답변 시간</th>\n",
              "      <th>이탈 고객</th>\n",
              "    </tr>\n",
              "  </thead>\n",
              "  <tbody>\n",
              "    <tr>\n",
              "      <th>0</th>\n",
              "      <td>1</td>\n",
              "      <td>3149</td>\n",
              "      <td>3476</td>\n",
              "      <td>25</td>\n",
              "      <td>9</td>\n",
              "      <td>1</td>\n",
              "      <td>-23.575816</td>\n",
              "      <td>-46.587303</td>\n",
              "      <td>1.0</td>\n",
              "      <td>29.99</td>\n",
              "      <td>...</td>\n",
              "      <td>10</td>\n",
              "      <td>9350.0</td>\n",
              "      <td>309</td>\n",
              "      <td>21</td>\n",
              "      <td>38.71</td>\n",
              "      <td>1976.0</td>\n",
              "      <td>8</td>\n",
              "      <td>7</td>\n",
              "      <td>1</td>\n",
              "      <td>1</td>\n",
              "    </tr>\n",
              "    <tr>\n",
              "      <th>1</th>\n",
              "      <td>1</td>\n",
              "      <td>59296</td>\n",
              "      <td>3355</td>\n",
              "      <td>19</td>\n",
              "      <td>26</td>\n",
              "      <td>3</td>\n",
              "      <td>-5.773971</td>\n",
              "      <td>-35.273838</td>\n",
              "      <td>1.0</td>\n",
              "      <td>45.00</td>\n",
              "      <td>...</td>\n",
              "      <td>15</td>\n",
              "      <td>31842.0</td>\n",
              "      <td>61</td>\n",
              "      <td>7</td>\n",
              "      <td>72.20</td>\n",
              "      <td>6000.0</td>\n",
              "      <td>13</td>\n",
              "      <td>12</td>\n",
              "      <td>2</td>\n",
              "      <td>0</td>\n",
              "    </tr>\n",
              "    <tr>\n",
              "      <th>2</th>\n",
              "      <td>1</td>\n",
              "      <td>9195</td>\n",
              "      <td>3264</td>\n",
              "      <td>25</td>\n",
              "      <td>9</td>\n",
              "      <td>1</td>\n",
              "      <td>-23.675471</td>\n",
              "      <td>-46.514788</td>\n",
              "      <td>1.0</td>\n",
              "      <td>19.90</td>\n",
              "      <td>...</td>\n",
              "      <td>14</td>\n",
              "      <td>8752.0</td>\n",
              "      <td>318</td>\n",
              "      <td>21</td>\n",
              "      <td>28.62</td>\n",
              "      <td>11475.0</td>\n",
              "      <td>2</td>\n",
              "      <td>9</td>\n",
              "      <td>1</td>\n",
              "      <td>0</td>\n",
              "    </tr>\n",
              "    <tr>\n",
              "      <th>3</th>\n",
              "      <td>1</td>\n",
              "      <td>86320</td>\n",
              "      <td>1000</td>\n",
              "      <td>17</td>\n",
              "      <td>19</td>\n",
              "      <td>2</td>\n",
              "      <td>-23.551117</td>\n",
              "      <td>-50.551613</td>\n",
              "      <td>1.0</td>\n",
              "      <td>147.90</td>\n",
              "      <td>...</td>\n",
              "      <td>2</td>\n",
              "      <td>7112.0</td>\n",
              "      <td>208</td>\n",
              "      <td>21</td>\n",
              "      <td>175.26</td>\n",
              "      <td>42250.0</td>\n",
              "      <td>16</td>\n",
              "      <td>5</td>\n",
              "      <td>0</td>\n",
              "      <td>0</td>\n",
              "    </tr>\n",
              "    <tr>\n",
              "      <th>4</th>\n",
              "      <td>1</td>\n",
              "      <td>26525</td>\n",
              "      <td>2375</td>\n",
              "      <td>18</td>\n",
              "      <td>2</td>\n",
              "      <td>1</td>\n",
              "      <td>-22.805728</td>\n",
              "      <td>-43.423190</td>\n",
              "      <td>1.0</td>\n",
              "      <td>59.99</td>\n",
              "      <td>...</td>\n",
              "      <td>2</td>\n",
              "      <td>12940.0</td>\n",
              "      <td>37</td>\n",
              "      <td>21</td>\n",
              "      <td>75.16</td>\n",
              "      <td>4352.0</td>\n",
              "      <td>9</td>\n",
              "      <td>11</td>\n",
              "      <td>1</td>\n",
              "      <td>0</td>\n",
              "    </tr>\n",
              "  </tbody>\n",
              "</table>\n",
              "<p>5 rows × 30 columns</p>\n",
              "</div>\n",
              "    <div class=\"colab-df-buttons\">\n",
              "\n",
              "  <div class=\"colab-df-container\">\n",
              "    <button class=\"colab-df-convert\" onclick=\"convertToInteractive('df-009dfc76-501e-48a1-b015-00f30dbe2de2')\"\n",
              "            title=\"Convert this dataframe to an interactive table.\"\n",
              "            style=\"display:none;\">\n",
              "\n",
              "  <svg xmlns=\"http://www.w3.org/2000/svg\" height=\"24px\" viewBox=\"0 -960 960 960\">\n",
              "    <path d=\"M120-120v-720h720v720H120Zm60-500h600v-160H180v160Zm220 220h160v-160H400v160Zm0 220h160v-160H400v160ZM180-400h160v-160H180v160Zm440 0h160v-160H620v160ZM180-180h160v-160H180v160Zm440 0h160v-160H620v160Z\"/>\n",
              "  </svg>\n",
              "    </button>\n",
              "\n",
              "  <style>\n",
              "    .colab-df-container {\n",
              "      display:flex;\n",
              "      gap: 12px;\n",
              "    }\n",
              "\n",
              "    .colab-df-convert {\n",
              "      background-color: #E8F0FE;\n",
              "      border: none;\n",
              "      border-radius: 50%;\n",
              "      cursor: pointer;\n",
              "      display: none;\n",
              "      fill: #1967D2;\n",
              "      height: 32px;\n",
              "      padding: 0 0 0 0;\n",
              "      width: 32px;\n",
              "    }\n",
              "\n",
              "    .colab-df-convert:hover {\n",
              "      background-color: #E2EBFA;\n",
              "      box-shadow: 0px 1px 2px rgba(60, 64, 67, 0.3), 0px 1px 3px 1px rgba(60, 64, 67, 0.15);\n",
              "      fill: #174EA6;\n",
              "    }\n",
              "\n",
              "    .colab-df-buttons div {\n",
              "      margin-bottom: 4px;\n",
              "    }\n",
              "\n",
              "    [theme=dark] .colab-df-convert {\n",
              "      background-color: #3B4455;\n",
              "      fill: #D2E3FC;\n",
              "    }\n",
              "\n",
              "    [theme=dark] .colab-df-convert:hover {\n",
              "      background-color: #434B5C;\n",
              "      box-shadow: 0px 1px 3px 1px rgba(0, 0, 0, 0.15);\n",
              "      filter: drop-shadow(0px 1px 2px rgba(0, 0, 0, 0.3));\n",
              "      fill: #FFFFFF;\n",
              "    }\n",
              "  </style>\n",
              "\n",
              "    <script>\n",
              "      const buttonEl =\n",
              "        document.querySelector('#df-009dfc76-501e-48a1-b015-00f30dbe2de2 button.colab-df-convert');\n",
              "      buttonEl.style.display =\n",
              "        google.colab.kernel.accessAllowed ? 'block' : 'none';\n",
              "\n",
              "      async function convertToInteractive(key) {\n",
              "        const element = document.querySelector('#df-009dfc76-501e-48a1-b015-00f30dbe2de2');\n",
              "        const dataTable =\n",
              "          await google.colab.kernel.invokeFunction('convertToInteractive',\n",
              "                                                    [key], {});\n",
              "        if (!dataTable) return;\n",
              "\n",
              "        const docLinkHtml = 'Like what you see? Visit the ' +\n",
              "          '<a target=\"_blank\" href=https://colab.research.google.com/notebooks/data_table.ipynb>data table notebook</a>'\n",
              "          + ' to learn more about interactive tables.';\n",
              "        element.innerHTML = '';\n",
              "        dataTable['output_type'] = 'display_data';\n",
              "        await google.colab.output.renderOutput(dataTable, element);\n",
              "        const docLink = document.createElement('div');\n",
              "        docLink.innerHTML = docLinkHtml;\n",
              "        element.appendChild(docLink);\n",
              "      }\n",
              "    </script>\n",
              "  </div>\n",
              "\n",
              "\n",
              "<div id=\"df-adc63ee9-300a-439d-afcf-5c9711b7346a\">\n",
              "  <button class=\"colab-df-quickchart\" onclick=\"quickchart('df-adc63ee9-300a-439d-afcf-5c9711b7346a')\"\n",
              "            title=\"Suggest charts\"\n",
              "            style=\"display:none;\">\n",
              "\n",
              "<svg xmlns=\"http://www.w3.org/2000/svg\" height=\"24px\"viewBox=\"0 0 24 24\"\n",
              "     width=\"24px\">\n",
              "    <g>\n",
              "        <path d=\"M19 3H5c-1.1 0-2 .9-2 2v14c0 1.1.9 2 2 2h14c1.1 0 2-.9 2-2V5c0-1.1-.9-2-2-2zM9 17H7v-7h2v7zm4 0h-2V7h2v10zm4 0h-2v-4h2v4z\"/>\n",
              "    </g>\n",
              "</svg>\n",
              "  </button>\n",
              "\n",
              "<style>\n",
              "  .colab-df-quickchart {\n",
              "      --bg-color: #E8F0FE;\n",
              "      --fill-color: #1967D2;\n",
              "      --hover-bg-color: #E2EBFA;\n",
              "      --hover-fill-color: #174EA6;\n",
              "      --disabled-fill-color: #AAA;\n",
              "      --disabled-bg-color: #DDD;\n",
              "  }\n",
              "\n",
              "  [theme=dark] .colab-df-quickchart {\n",
              "      --bg-color: #3B4455;\n",
              "      --fill-color: #D2E3FC;\n",
              "      --hover-bg-color: #434B5C;\n",
              "      --hover-fill-color: #FFFFFF;\n",
              "      --disabled-bg-color: #3B4455;\n",
              "      --disabled-fill-color: #666;\n",
              "  }\n",
              "\n",
              "  .colab-df-quickchart {\n",
              "    background-color: var(--bg-color);\n",
              "    border: none;\n",
              "    border-radius: 50%;\n",
              "    cursor: pointer;\n",
              "    display: none;\n",
              "    fill: var(--fill-color);\n",
              "    height: 32px;\n",
              "    padding: 0;\n",
              "    width: 32px;\n",
              "  }\n",
              "\n",
              "  .colab-df-quickchart:hover {\n",
              "    background-color: var(--hover-bg-color);\n",
              "    box-shadow: 0 1px 2px rgba(60, 64, 67, 0.3), 0 1px 3px 1px rgba(60, 64, 67, 0.15);\n",
              "    fill: var(--button-hover-fill-color);\n",
              "  }\n",
              "\n",
              "  .colab-df-quickchart-complete:disabled,\n",
              "  .colab-df-quickchart-complete:disabled:hover {\n",
              "    background-color: var(--disabled-bg-color);\n",
              "    fill: var(--disabled-fill-color);\n",
              "    box-shadow: none;\n",
              "  }\n",
              "\n",
              "  .colab-df-spinner {\n",
              "    border: 2px solid var(--fill-color);\n",
              "    border-color: transparent;\n",
              "    border-bottom-color: var(--fill-color);\n",
              "    animation:\n",
              "      spin 1s steps(1) infinite;\n",
              "  }\n",
              "\n",
              "  @keyframes spin {\n",
              "    0% {\n",
              "      border-color: transparent;\n",
              "      border-bottom-color: var(--fill-color);\n",
              "      border-left-color: var(--fill-color);\n",
              "    }\n",
              "    20% {\n",
              "      border-color: transparent;\n",
              "      border-left-color: var(--fill-color);\n",
              "      border-top-color: var(--fill-color);\n",
              "    }\n",
              "    30% {\n",
              "      border-color: transparent;\n",
              "      border-left-color: var(--fill-color);\n",
              "      border-top-color: var(--fill-color);\n",
              "      border-right-color: var(--fill-color);\n",
              "    }\n",
              "    40% {\n",
              "      border-color: transparent;\n",
              "      border-right-color: var(--fill-color);\n",
              "      border-top-color: var(--fill-color);\n",
              "    }\n",
              "    60% {\n",
              "      border-color: transparent;\n",
              "      border-right-color: var(--fill-color);\n",
              "    }\n",
              "    80% {\n",
              "      border-color: transparent;\n",
              "      border-right-color: var(--fill-color);\n",
              "      border-bottom-color: var(--fill-color);\n",
              "    }\n",
              "    90% {\n",
              "      border-color: transparent;\n",
              "      border-bottom-color: var(--fill-color);\n",
              "    }\n",
              "  }\n",
              "</style>\n",
              "\n",
              "  <script>\n",
              "    async function quickchart(key) {\n",
              "      const quickchartButtonEl =\n",
              "        document.querySelector('#' + key + ' button');\n",
              "      quickchartButtonEl.disabled = true;  // To prevent multiple clicks.\n",
              "      quickchartButtonEl.classList.add('colab-df-spinner');\n",
              "      try {\n",
              "        const charts = await google.colab.kernel.invokeFunction(\n",
              "            'suggestCharts', [key], {});\n",
              "      } catch (error) {\n",
              "        console.error('Error during call to suggestCharts:', error);\n",
              "      }\n",
              "      quickchartButtonEl.classList.remove('colab-df-spinner');\n",
              "      quickchartButtonEl.classList.add('colab-df-quickchart-complete');\n",
              "    }\n",
              "    (() => {\n",
              "      let quickchartButtonEl =\n",
              "        document.querySelector('#df-adc63ee9-300a-439d-afcf-5c9711b7346a button');\n",
              "      quickchartButtonEl.style.display =\n",
              "        google.colab.kernel.accessAllowed ? 'block' : 'none';\n",
              "    })();\n",
              "  </script>\n",
              "</div>\n",
              "\n",
              "    </div>\n",
              "  </div>\n"
            ],
            "application/vnd.google.colaboratory.intrinsic+json": {
              "type": "dataframe",
              "variable_name": "final"
            }
          },
          "metadata": {},
          "execution_count": 25
        }
      ]
    },
    {
      "cell_type": "markdown",
      "source": [
        "# 정답 레이블 분리"
      ],
      "metadata": {
        "id": "ckAiP0c1JUKN"
      }
    },
    {
      "cell_type": "code",
      "source": [
        "X = final.drop(columns = ['이탈 고객'])\n",
        "y = final['이탈 고객']"
      ],
      "metadata": {
        "id": "RBupd_VHJVI-"
      },
      "execution_count": 26,
      "outputs": []
    },
    {
      "cell_type": "markdown",
      "source": [
        "# train / test 분리"
      ],
      "metadata": {
        "id": "oSZ73MaxJWB8"
      }
    },
    {
      "cell_type": "code",
      "source": [
        "X_train, X_test, y_train, y_test = train_test_split(X, y, stratify = y, random_state = 42)\n",
        "X_train.shape, X_test.shape, y_train.shape, y_test.shape"
      ],
      "metadata": {
        "colab": {
          "base_uri": "https://localhost:8080/"
        },
        "id": "7niHMmvdJWeN",
        "outputId": "292c1797-e379-45a5-adae-9eb725220ff8"
      },
      "execution_count": 27,
      "outputs": [
        {
          "output_type": "execute_result",
          "data": {
            "text/plain": [
              "((65965, 29), (21989, 29), (65965,), (21989,))"
            ]
          },
          "metadata": {},
          "execution_count": 27
        }
      ]
    },
    {
      "cell_type": "markdown",
      "source": [
        "# 스케일링"
      ],
      "metadata": {
        "id": "IG3ll9-MJXJc"
      }
    },
    {
      "cell_type": "code",
      "source": [
        "SC = StandardScaler()\n",
        "X_trans = SC.fit_transform(X_train)"
      ],
      "metadata": {
        "id": "-y6jEb34JXp1"
      },
      "execution_count": 28,
      "outputs": []
    },
    {
      "cell_type": "code",
      "source": [
        "X_test_trans = SC.fit_transform(X_test)"
      ],
      "metadata": {
        "id": "-CCOSg2SJYMV"
      },
      "execution_count": 29,
      "outputs": []
    },
    {
      "cell_type": "markdown",
      "source": [
        "# optuna를 활용한 최적의 파라미터 찾기"
      ],
      "metadata": {
        "id": "9f3bszadJY6U"
      }
    },
    {
      "cell_type": "code",
      "source": [
        "# def objective(trial):\n",
        "#     # 하이퍼파라미터 탐색 공간 정의\n",
        "#     n_estimators = trial.suggest_int('n_estimators', 100, 1000, step=100)\n",
        "#     max_depth = trial.suggest_int('max_depth', 5, 15)\n",
        "#     min_samples_split = trial.suggest_int('min_samples_split', 2, 10)\n",
        "#     min_samples_leaf = trial.suggest_int('min_samples_leaf', 1, 10)\n",
        "#     max_features = trial.suggest_categorical('max_features', ['sqrt'])\n",
        "\n",
        "#     # Random Forest 모델 생성\n",
        "#     model = RandomForestClassifier(\n",
        "#         n_estimators=n_estimators,\n",
        "#         max_depth=max_depth,\n",
        "#         min_samples_split=min_samples_split,\n",
        "#         min_samples_leaf=min_samples_leaf,\n",
        "#         max_features=max_features,\n",
        "#         random_state=42\n",
        "#     )\n",
        "\n",
        "#     # 모델 학습\n",
        "#     model.fit(X_trans, y_train)\n",
        "\n",
        "#     # 검증 데이터에 대한 예측\n",
        "#     y_valid_pred = model.predict(X_test_trans)\n",
        "\n",
        "#     # 검증 데이터에 대한 정확도 계산\n",
        "#     roc = roc_auc_score(y_test, y_valid_pred)\n",
        "\n",
        "#     return roc"
      ],
      "metadata": {
        "id": "5nnQRYOAJZjV"
      },
      "execution_count": 30,
      "outputs": []
    },
    {
      "cell_type": "code",
      "source": [
        "# study = optuna.create_study(direction='maximize')\n",
        "# study.optimize(objective, n_trials=100)\n",
        "\n",
        "# best_params = study.best_params\n",
        "# best_score = study.best_value\n",
        "# print('Best Parameters:', best_params)\n",
        "# print('Best roc_auc_score:', best_score)"
      ],
      "metadata": {
        "id": "pnVapeKCJaVe"
      },
      "execution_count": 31,
      "outputs": []
    },
    {
      "cell_type": "markdown",
      "source": [
        "# 찾은 파라미터로 모델링 진행"
      ],
      "metadata": {
        "id": "fbgW2ctXJbMu"
      }
    },
    {
      "cell_type": "code",
      "source": [
        "RC = RandomForestClassifier(n_estimators = 900, max_depth = 7, min_samples_split = 2, min_samples_leaf = 9, max_features = 'sqrt', random_state = 42)\n",
        "model = RC.fit(X_trans, y_train)"
      ],
      "metadata": {
        "id": "3f7GizATJb6t"
      },
      "execution_count": 32,
      "outputs": []
    },
    {
      "cell_type": "code",
      "source": [
        "y_pred = model.predict(X_test_trans)"
      ],
      "metadata": {
        "id": "dW0FU-ZhJcdl"
      },
      "execution_count": 33,
      "outputs": []
    },
    {
      "cell_type": "markdown",
      "source": [
        "# 성능 평가"
      ],
      "metadata": {
        "id": "k9TpaYWcJeLu"
      }
    },
    {
      "cell_type": "code",
      "source": [
        "roc_auc_score(y_test, y_pred)"
      ],
      "metadata": {
        "colab": {
          "base_uri": "https://localhost:8080/"
        },
        "id": "--z_f7tIJewe",
        "outputId": "2e5b6968-784c-45d3-b73f-089fb96880e8"
      },
      "execution_count": 34,
      "outputs": [
        {
          "output_type": "execute_result",
          "data": {
            "text/plain": [
              "0.5"
            ]
          },
          "metadata": {},
          "execution_count": 34
        }
      ]
    },
    {
      "cell_type": "markdown",
      "source": [
        "# Feature_importance 탐색"
      ],
      "metadata": {
        "id": "-1ZZjyptJfe-"
      }
    },
    {
      "cell_type": "code",
      "source": [
        "importances = pd.Series(model.feature_importances_, index = X.columns)\n",
        "importances"
      ],
      "metadata": {
        "colab": {
          "base_uri": "https://localhost:8080/"
        },
        "id": "o-JFdtZCJgZN",
        "outputId": "650cb24b-0019-4bed-87b9-79e5e15e39cd"
      },
      "execution_count": 35,
      "outputs": [
        {
          "output_type": "execute_result",
          "data": {
            "text/plain": [
              "주문 상태           0.000000\n",
              "우편번호 앞부분        0.050470\n",
              "도시              0.033602\n",
              "주               0.012446\n",
              "주 한국명           0.014687\n",
              "지역              0.005987\n",
              "고객 위도           0.046614\n",
              "고객 경도           0.057748\n",
              "주문 품목 수         0.000000\n",
              "판매 가격           0.083135\n",
              "품목 화물 가격        0.047614\n",
              "결제 시퀀스          0.002191\n",
              "지불 방법           0.009083\n",
              "할부 횟수           0.066300\n",
              "리뷰 점수           0.009223\n",
              "카테고리 이름         0.043908\n",
              "제품 무게(g)        0.037600\n",
              "제품 길이(cm)       0.027897\n",
              "제품 높이(cm)       0.033224\n",
              "제품 너비(cm)       0.028761\n",
              "상위 카테고리         0.054602\n",
              "판매자 우편번호 앞자리    0.049501\n",
              "판매자 도시(city)    0.048590\n",
              "판매자 주(state)    0.014341\n",
              "총 금액            0.099461\n",
              "부피              0.043265\n",
              "배송 시간           0.022176\n",
              "기대실제 배송시간       0.042207\n",
              "답변 시간           0.015367\n",
              "dtype: float64"
            ]
          },
          "metadata": {},
          "execution_count": 35
        }
      ]
    },
    {
      "cell_type": "markdown",
      "source": [
        "## features들 정렬"
      ],
      "metadata": {
        "id": "TabyG_GqJhYd"
      }
    },
    {
      "cell_type": "code",
      "source": [
        "imp = importances.sort_values(ascending = False)\n",
        "imp"
      ],
      "metadata": {
        "colab": {
          "base_uri": "https://localhost:8080/"
        },
        "id": "5E1ZHQShJjzW",
        "outputId": "98cc8126-25f6-482d-ef53-c1a0c001b681"
      },
      "execution_count": 36,
      "outputs": [
        {
          "output_type": "execute_result",
          "data": {
            "text/plain": [
              "총 금액            0.099461\n",
              "판매 가격           0.083135\n",
              "할부 횟수           0.066300\n",
              "고객 경도           0.057748\n",
              "상위 카테고리         0.054602\n",
              "우편번호 앞부분        0.050470\n",
              "판매자 우편번호 앞자리    0.049501\n",
              "판매자 도시(city)    0.048590\n",
              "품목 화물 가격        0.047614\n",
              "고객 위도           0.046614\n",
              "카테고리 이름         0.043908\n",
              "부피              0.043265\n",
              "기대실제 배송시간       0.042207\n",
              "제품 무게(g)        0.037600\n",
              "도시              0.033602\n",
              "제품 높이(cm)       0.033224\n",
              "제품 너비(cm)       0.028761\n",
              "제품 길이(cm)       0.027897\n",
              "배송 시간           0.022176\n",
              "답변 시간           0.015367\n",
              "주 한국명           0.014687\n",
              "판매자 주(state)    0.014341\n",
              "주               0.012446\n",
              "리뷰 점수           0.009223\n",
              "지불 방법           0.009083\n",
              "지역              0.005987\n",
              "결제 시퀀스          0.002191\n",
              "주문 품목 수         0.000000\n",
              "주문 상태           0.000000\n",
              "dtype: float64"
            ]
          },
          "metadata": {},
          "execution_count": 36
        }
      ]
    },
    {
      "cell_type": "markdown",
      "source": [
        "# Feature_importance 시각화"
      ],
      "metadata": {
        "id": "IXbax-nTJkil"
      }
    },
    {
      "cell_type": "code",
      "source": [
        "import seaborn as sns\n",
        "\n",
        "plt.figure(figsize=(8,6))\n",
        "plt.title('Feature Importances of Churn')\n",
        "sns.barplot(x= imp, y= imp.index)\n",
        "plt.show()"
      ],
      "metadata": {
        "colab": {
          "base_uri": "https://localhost:8080/",
          "height": 561
        },
        "id": "rTdep2LQJlHq",
        "outputId": "ba518d6a-9533-48c4-8e8c-f9ebed88676f"
      },
      "execution_count": 37,
      "outputs": [
        {
          "output_type": "display_data",
          "data": {
            "text/plain": [
              "<Figure size 800x600 with 1 Axes>"
            ],
            "image/png": "[encoded data removed]"
          },
          "metadata": {}
        }
      ]
    },
    {
      "cell_type": "markdown",
      "source": [
        "# feature_importance에 따른 시각화 및 인사이트 도출"
      ],
      "metadata": {
        "id": "O9UvhYFGLiRf"
      }
    },
    {
      "cell_type": "code",
      "source": [
        "vis = pd.read_csv('/content/시각화_버전.csv')"
      ],
      "metadata": {
        "id": "3WwhYXaDOWJ0"
      },
      "execution_count": 38,
      "outputs": []
    },
    {
      "cell_type": "markdown",
      "source": [
        "- 총 금액 = 판매 가격 + 화물 가격\n",
        "- 총 금액은 판매 가격과 화물 가격으로 이루어진 금액이기에 두 컬럼을 따로 확인\n",
        "- 판매 가격을 확인해 보았을 때 0 ~ 1000 대의 분포가 대부분\n",
        "  - 1번 주문하는 고객이 대다수이지만 그 고객 마저도 낮은 금액대의 분포를 보인다."
      ],
      "metadata": {
        "id": "wW1bCVf5Lrhh"
      }
    },
    {
      "cell_type": "code",
      "source": [
        "sns.histplot(x = vis['판매 가격'], bins = 10, hue = vis['이탈 고객'])"
      ],
      "metadata": {
        "colab": {
          "base_uri": "https://localhost:8080/",
          "height": 465
        },
        "id": "rzdWwi2oLaLl",
        "outputId": "349f98b3-1444-4ea9-ef87-50eb0ac09b83"
      },
      "execution_count": 39,
      "outputs": [
        {
          "output_type": "execute_result",
          "data": {
            "text/plain": [
              "<Axes: xlabel='판매 가격', ylabel='Count'>"
            ]
          },
          "metadata": {},
          "execution_count": 39
        },
        {
          "output_type": "display_data",
          "data": {
            "text/plain": [
              "<Figure size 640x480 with 1 Axes>"
            ],
            "image/png": "[encoded data removed]"
          },
          "metadata": {}
        }
      ]
    },
    {
      "cell_type": "code",
      "source": [
        "tmp = vis.loc[vis['이탈 고객'] == 0]"
      ],
      "metadata": {
        "id": "v_6eXhuwfbth"
      },
      "execution_count": 40,
      "outputs": []
    },
    {
      "cell_type": "code",
      "source": [
        "sns.histplot(x = tmp['판매 가격'], bins = 10)"
      ],
      "metadata": {
        "colab": {
          "base_uri": "https://localhost:8080/",
          "height": 465
        },
        "id": "lDDEC1KFfpeZ",
        "outputId": "c00509b8-1271-4e24-8c4f-e7b8825c26af"
      },
      "execution_count": 41,
      "outputs": [
        {
          "output_type": "execute_result",
          "data": {
            "text/plain": [
              "<Axes: xlabel='판매 가격', ylabel='Count'>"
            ]
          },
          "metadata": {},
          "execution_count": 41
        },
        {
          "output_type": "display_data",
          "data": {
            "text/plain": [
              "<Figure size 640x480 with 1 Axes>"
            ],
            "image/png": "[encoded data removed]"
          },
          "metadata": {}
        }
      ]
    },
    {
      "cell_type": "code",
      "source": [
        "tmp = pd.DataFrame(vis.loc[vis['판매 가격'] < 1000]['상위 카테고리'].value_counts())\n",
        "tmp.reset_index(inplace = True)"
      ],
      "metadata": {
        "id": "7xtb8_4BMqcF"
      },
      "execution_count": 42,
      "outputs": []
    },
    {
      "cell_type": "markdown",
      "source": [
        "- 금액대가 1000원 미만인 품목들의 카테고리를 파악\n",
        "  - 판매가격이 이탈율에 큰 영향을 미치며\n",
        "  - 대부분의 이탈 고객이 낮은 금액대에 분포하기 때문에 현재 많이 소비된 상위 5개의 카테고리에 집중해서 고객들에게 광고를 하면 효과가 좋을 것으로 예상"
      ],
      "metadata": {
        "id": "5BxkoaaWQYac"
      }
    },
    {
      "cell_type": "code",
      "source": [
        "sns.barplot(data = tmp, x = '상위 카테고리', y = 'count', palette='Paired')\n",
        "plt.xticks(rotation = 90)"
      ],
      "metadata": {
        "colab": {
          "base_uri": "https://localhost:8080/",
          "height": 1000
        },
        "id": "shijXQkZO5de",
        "outputId": "e0d70b06-dc6b-47f3-b988-f6566999bf94"
      },
      "execution_count": 43,
      "outputs": [
        {
          "output_type": "stream",
          "name": "stderr",
          "text": [
            "<ipython-input-43-838729e3eedd>:1: FutureWarning: \n",
            "\n",
            "Passing `palette` without assigning `hue` is deprecated and will be removed in v0.14.0. Assign the `x` variable to `hue` and set `legend=False` for the same effect.\n",
            "\n",
            "  sns.barplot(data = tmp, x = '상위 카테고리', y = 'count', palette='Paired')\n"
          ]
        },
        {
          "output_type": "execute_result",
          "data": {
            "text/plain": [
              "([0, 1, 2, 3, 4, 5, 6, 7, 8, 9, 10, 11, 12, 13, 14, 15, 16, 17, 18],\n",
              " [Text(0, 0, 'home'),\n",
              "  Text(1, 0, 'electronics'),\n",
              "  Text(2, 0, 'health_beauty'),\n",
              "  Text(3, 0, 'fashion'),\n",
              "  Text(4, 0, 'sports'),\n",
              "  Text(5, 0, 'miscellaneous'),\n",
              "  Text(6, 0, 'toys'),\n",
              "  Text(7, 0, 'automotive'),\n",
              "  Text(8, 0, 'baby'),\n",
              "  Text(9, 0, 'office_supplies'),\n",
              "  Text(10, 0, 'construction'),\n",
              "  Text(11, 0, 'pets'),\n",
              "  Text(12, 0, 'food_drink'),\n",
              "  Text(13, 0, 'books'),\n",
              "  Text(14, 0, 'music'),\n",
              "  Text(15, 0, 'industry_commerce'),\n",
              "  Text(16, 0, 'arts_crafts'),\n",
              "  Text(17, 0, 'Unknown'),\n",
              "  Text(18, 0, 'services')])"
            ]
          },
          "metadata": {},
          "execution_count": 43
        },
        {
          "output_type": "display_data",
          "data": {
            "text/plain": [
              "<Figure size 640x480 with 1 Axes>"
            ],
            "image/png": "[encoded data removed]"
          },
          "metadata": {}
        }
      ]
    },
    {
      "cell_type": "markdown",
      "source": [
        "- 할부 횟수가 이탈율에 영향을 끼치는 것으로 나온다.\n",
        "- 해당 변수는 브라질의 이자율의 특성때문에 나온 것으로 생각이 된다.\n",
        "  - 할부 횟수가 높을 수록 이자율이 크게 올라간다고 한다.\n"
      ],
      "metadata": {
        "id": "leCRW4J4zxw-"
      }
    },
    {
      "cell_type": "code",
      "source": [
        "sns.histplot(x = vis['할부 횟수'], bins = 24, hue = vis['이탈 고객'])"
      ],
      "metadata": {
        "colab": {
          "base_uri": "https://localhost:8080/",
          "height": 465
        },
        "id": "TW2cNEHNzrwx",
        "outputId": "0cc40cfa-d9be-4816-d980-ebc25312ff47"
      },
      "execution_count": 44,
      "outputs": [
        {
          "output_type": "execute_result",
          "data": {
            "text/plain": [
              "<Axes: xlabel='할부 횟수', ylabel='Count'>"
            ]
          },
          "metadata": {},
          "execution_count": 44
        },
        {
          "output_type": "display_data",
          "data": {
            "text/plain": [
              "<Figure size 640x480 with 1 Axes>"
            ],
            "image/png": "[encoded data removed]"
          },
          "metadata": {}
        }
      ]
    }
  ]
}
